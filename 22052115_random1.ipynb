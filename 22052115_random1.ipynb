{
  "nbformat": 4,
  "nbformat_minor": 0,
  "metadata": {
    "colab": {
      "provenance": [],
      "authorship_tag": "ABX9TyN4950iPuBdE0NpB6mHS8JP",
      "include_colab_link": true
    },
    "kernelspec": {
      "name": "python3",
      "display_name": "Python 3"
    },
    "language_info": {
      "name": "python"
    }
  },
  "cells": [
    {
      "cell_type": "markdown",
      "metadata": {
        "id": "view-in-github",
        "colab_type": "text"
      },
      "source": [
        "<a href=\"https://colab.research.google.com/github/visengagan/Gagan/blob/main/22052115_random1.ipynb\" target=\"_parent\"><img src=\"https://colab.research.google.com/assets/colab-badge.svg\" alt=\"Open In Colab\"/></a>"
      ]
    },
    {
      "cell_type": "markdown",
      "source": [
        "\n",
        "\n",
        "> maze solver of dfs and bfs by user defined output\n"
      ],
      "metadata": {
        "id": "LdcnxnROqsFK"
      }
    },
    {
      "cell_type": "code",
      "source": [
        "import random\n",
        "from collections import deque\n",
        "\n",
        "DIRECTIONS = [(0, 1), (1, 0), (0, -1), (-1, 0)]\n",
        "\n",
        "def generate_random_maze(rows, cols, start, end):\n",
        "\n",
        "    maze = [[0 for _ in range(cols)] for _ in range(rows)]\n",
        "\n",
        "\n",
        "    for r in range(rows):\n",
        "        for c in range(cols):\n",
        "            if (r, c) != start and (r, c) != end:\n",
        "                maze[r][c] = random.choice([0, 1])\n",
        "\n",
        "\n",
        "    maze[start[0]][start[1]] = 1\n",
        "    maze[end[0]][end[1]] = 1\n",
        "\n",
        "\n",
        "    return maze\n",
        "\n",
        "def initialize_search(maze, start, end):\n",
        "\n",
        "    rows, cols = len(maze), len(maze[0])\n",
        "    visited = set()\n",
        "    visited.add(start)\n",
        "    return rows, cols, visited\n",
        "\n",
        "def bfs(maze, start, end):\n",
        "\n",
        "    rows, cols, visited = initialize_search(maze, start, end)\n",
        "    queue = deque([(start, [start])])\n",
        "\n",
        "    while queue:\n",
        "        current, path = queue.popleft()\n",
        "        if current == end:\n",
        "            return path, len(visited)\n",
        "\n",
        "        for dr, dc in DIRECTIONS:\n",
        "            nr, nc = current[0] + dr, current[1] + dc\n",
        "            if 0 <= nr < rows and 0 <= nc < cols and maze[nr][nc] == 1 and (nr, nc) not in visited:\n",
        "                queue.append(((nr, nc), path + [(nr, nc)]))\n",
        "                visited.add((nr, nc))\n",
        "\n",
        "    return None, len(visited)\n",
        "\n",
        "def dfs(maze, start, end):\n",
        "\n",
        "    rows, cols, visited = initialize_search(maze, start, end)\n",
        "    stack = [(start, [start])]\n",
        "\n",
        "    while stack:\n",
        "        current, path = stack.pop()\n",
        "        if current == end:\n",
        "            return path, len(visited)\n",
        "\n",
        "        for dr, dc in DIRECTIONS:\n",
        "            nr, nc = current[0] + dr, current[1] + dc\n",
        "            if 0 <= nr < rows and 0 <= nc < cols and maze[nr][nc] == 1 and (nr, nc) not in visited:\n",
        "                stack.append(((nr, nc), path + [(nr, nc)]))\n",
        "                visited.add((nr, nc))\n",
        "\n",
        "    return None, len(visited)\n",
        "\n",
        "def print_results(search_type, path, nodes_explored):\n",
        "\n",
        "    print(f\"{search_type}:\")\n",
        "    if path:\n",
        "        print(f\"Path: {path}\")\n",
        "    else:\n",
        "        print(\"No path found\")\n",
        "    print(f\"Nodes Explored: {nodes_explored}\")\n",
        "\n",
        "def compare_bfs_dfs(maze, start, end):\n",
        "\n",
        "    bfs_path, bfs_nodes = bfs(maze, start, end)\n",
        "    dfs_path, dfs_nodes = dfs(maze, start, end)\n",
        "\n",
        "    print_results(\"BFS\", bfs_path, bfs_nodes)\n",
        "    print()\n",
        "    print_results(\"DFS\", dfs_path, dfs_nodes)\n",
        "\n",
        "\n",
        "rows, cols = 5, 5\n",
        "start = (0, 0)\n",
        "end = (4, 4)\n",
        "\n",
        "\n",
        "maze = generate_random_maze(rows, cols, start, end)\n",
        "\n",
        "\n",
        "print(\"Generated Maze:\")\n",
        "for row in maze:\n",
        "    print(row)\n",
        "\n",
        "\n",
        "compare_bfs_dfs(maze, start, end)"
      ],
      "metadata": {
        "colab": {
          "base_uri": "https://localhost:8080/"
        },
        "id": "672ntKJwqAR-",
        "outputId": "333cd0ce-7fa6-4f03-e1eb-2a9cb7da5a88"
      },
      "execution_count": null,
      "outputs": [
        {
          "output_type": "stream",
          "name": "stdout",
          "text": [
            "Generated Maze:\n",
            "[1, 0, 0, 1, 1]\n",
            "[0, 1, 0, 0, 1]\n",
            "[0, 0, 1, 1, 0]\n",
            "[1, 1, 0, 1, 0]\n",
            "[0, 0, 1, 0, 1]\n",
            "BFS:\n",
            "No path found\n",
            "Nodes Explored: 1\n",
            "\n",
            "DFS:\n",
            "No path found\n",
            "Nodes Explored: 1\n"
          ]
        }
      ]
    }
  ]
}