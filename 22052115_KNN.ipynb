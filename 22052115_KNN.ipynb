{
  "cells": [
    {
      "cell_type": "markdown",
      "metadata": {
        "id": "view-in-github",
        "colab_type": "text"
      },
      "source": [
        "<a href=\"https://colab.research.google.com/github/visengagan/Gagan/blob/main/22052115_KNN.ipynb\" target=\"_parent\"><img src=\"https://colab.research.google.com/assets/colab-badge.svg\" alt=\"Open In Colab\"/></a>"
      ]
    },
    {
      "cell_type": "markdown",
      "metadata": {
        "id": "SIjrZKIlvgPj"
      },
      "source": [
        "## TASK 1\n",
        "\n",
        "## use user-defined k-NN classifier for mice and breast-cancer data"
      ]
    },
    {
      "cell_type": "markdown",
      "metadata": {
        "id": "FXVbiByOvgPl"
      },
      "source": [
        "## MICE DATASET"
      ]
    },
    {
      "cell_type": "code",
      "execution_count": null,
      "metadata": {
        "id": "L2JjgzOVvgPm",
        "outputId": "20d7ca85-0247-4c17-e87e-6d7b59aab68a"
      },
      "outputs": [
        {
          "name": "stdout",
          "output_type": "stream",
          "text": [
            "(1080, 77)\n",
            "(1080,)\n",
            "['c-CS-m' 'c-CS-s' 'c-SC-m' 'c-SC-s' 't-CS-m' 't-CS-s' 't-SC-m' 't-SC-s']\n",
            "**Author**: Clara Higuera, Katheleen J. Gardiner, Krzysztof J. Cios  \n",
            "**Source**: [UCI](https://archive.ics.uci.edu/ml/datasets/Mice+Protein+Expression) - 2015   \n",
            "**Please cite**: Higuera C, Gardiner KJ, Cios KJ (2015) Self-Organizing Feature Maps Identify Proteins Critical to Learning in a Mouse Model of Down Syndrome. PLoS ONE 10(6): e0129126.\n",
            "\n",
            "Expression levels of 77 proteins measured in the cerebral cortex of 8 classes of control and Down syndrome mice exposed to context fear conditioning, a task used to assess associative learning.\n",
            "\n",
            "The data set consists of the expression levels of 77 proteins/protein modifications that produced detectable signals in the nuclear fraction of cortex. There are 38 control mice and 34 trisomic mice (Down syndrome), for a total of 72 mice. In the experiments, 15 measurements were registered of each protein per sample/mouse. Therefore, for control mice, there are 38x15, or 570 measurements, and for trisomic mice, there are 34x15, or 510 measurements. The dataset contains a total of 1080 measurements per protein. Each measurement can be considered as an independent sample/mouse. \n",
            "\n",
            "The eight classes of mice are described based on features such as genotype, behavior and treatment. According to genotype, mice can be control or trisomic. According to behavior, some mice have been stimulated to learn (context-shock) and others have not (shock-context) and in order to assess the effect of the drug memantine in recovering the ability to learn in trisomic mice, some mice have been injected with the drug and others have not. \n",
            "\n",
            "Classes: \n",
            "```\n",
            "* c-CS-s: control mice, stimulated to learn, injected with saline (9 mice) \n",
            "* c-CS-m: control mice, stimulated to learn, injected with memantine (10 mice) \n",
            "* c-SC-s: control mice, not stimulated to learn, injected with saline (9 mice) \n",
            "* c-SC-m: control mice, not stimulated to learn, injected with memantine (10 mice) \n",
            "* t-CS-s: trisomy mice, stimulated to learn, injected with saline (7 mice) \n",
            "* t-CS-m: trisomy mice, stimulated to learn, injected with memantine (9 mice) \n",
            "* t-SC-s: trisomy mice, not stimulated to learn, injected with saline (9 mice) \n",
            "* t-SC-m: trisomy mice, not stimulated to learn, injected with memantine (9 mice) \n",
            "```\n",
            "\n",
            "The aim is to identify subsets of proteins that are discriminant between the classes. \n",
            "\n",
            "### Attribute Information:\n",
            "\n",
            "```\n",
            "1 Mouse ID \n",
            "2..78 Values of expression levels of 77 proteins; the names of proteins are followed by &acirc;&euro;&oelig;_n&acirc;&euro; indicating that they were measured in the nuclear fraction. For example: DYRK1A_n \n",
            "79 Genotype: control (c) or trisomy (t) \n",
            "80 Treatment type: memantine (m) or saline (s) \n",
            "81 Behavior: context-shock (CS) or shock-context (SC) \n",
            "82 Class: c-CS-s, c-CS-m, c-SC-s, c-SC-m, t-CS-s, t-CS-m, t-SC-s, t-SC-m \n",
            "```\n",
            "\n",
            "### Relevant Papers:\n",
            "\n",
            "Higuera C, Gardiner KJ, Cios KJ (2015) Self-Organizing Feature Maps Identify Proteins Critical to Learning in a Mouse Model of Down Syndrome. PLoS ONE 10(6): e0129126. [Web Link] journal.pone.0129126 \n",
            "\n",
            "Ahmed MM, Dhanasekaran AR, Block A, Tong S, Costa ACS, Stasko M, et al. (2015) Protein Dynamics Associated with Failed and Rescued Learning in the Ts65Dn Mouse Model of Down Syndrome. PLoS ONE 10(3): e0119491.\n",
            "\n",
            "Downloaded from openml.org.\n"
          ]
        }
      ],
      "source": [
        "import pandas as pd\n",
        "import numpy as np\n",
        "from sklearn.datasets import fetch_openml\n",
        "\n",
        "mice_data = fetch_openml(name='miceprotein', version=4)\n",
        "print(mice_data.data.shape)\n",
        "print(mice_data.target.shape)\n",
        "print(np.unique(mice_data.target))\n",
        "print(mice_data.DESCR)"
      ]
    },
    {
      "cell_type": "code",
      "execution_count": null,
      "metadata": {
        "id": "lDiMoYImvgPn"
      },
      "outputs": [],
      "source": [
        "from sklearn.model_selection import train_test_split\n",
        "X_train, X_test, y_train, y_test = train_test_split(mice_data.data, mice_data.target,\n",
        "                                       test_size=0.20,\n",
        "                                       random_state=32,\n",
        "                                       shuffle=True)"
      ]
    },
    {
      "cell_type": "code",
      "execution_count": null,
      "metadata": {
        "id": "O_8DfS87vgPn",
        "outputId": "846a7585-8fbe-468f-94b7-fc1d4c76e496"
      },
      "outputs": [
        {
          "name": "stdout",
          "output_type": "stream",
          "text": [
            "(1080, 77)\n",
            "(1080,)\n"
          ]
        }
      ],
      "source": [
        "print(mice_data.data.shape)\n",
        "print(mice_data.target.shape)"
      ]
    },
    {
      "cell_type": "code",
      "execution_count": null,
      "metadata": {
        "id": "2ouFXEVhvgPo",
        "outputId": "beca3984-fc27-42e2-b6a4-d6f3e4e49a25"
      },
      "outputs": [
        {
          "name": "stdout",
          "output_type": "stream",
          "text": [
            "['c-SC-s', 't-SC-s', 'c-SC-s', 'c-CS-s', 'c-SC-s', 'c-SC-s', 'c-SC-s', 'c-CS-m', 'c-SC-s', 'c-SC-s', 'c-SC-s', 'c-SC-s', 'c-SC-s', 'c-SC-s', 't-SC-m', 'c-SC-s', 'c-SC-s', 't-SC-m', 't-CS-m', 't-SC-s', 'c-CS-s', 'c-SC-m', 'c-SC-s', 'c-SC-s', 'c-SC-s', 't-CS-m', 't-SC-s', 'c-CS-s', 'c-SC-s', 'c-SC-s', 'c-SC-s', 't-SC-s', 'c-SC-s', 't-SC-m', 't-CS-s', 'c-SC-m', 't-SC-m', 'c-SC-m', 't-CS-s', 't-CS-m', 'c-SC-s', 'c-SC-s', 't-SC-m', 'c-SC-s', 't-SC-s', 'c-SC-s', 't-CS-m', 't-SC-m', 't-CS-s', 'c-SC-s', 'c-SC-s', 't-CS-m', 't-SC-s', 'c-SC-s', 't-CS-m', 'c-SC-m', 'c-SC-m', 'c-SC-s', 't-CS-s', 'c-SC-s', 'c-SC-s', 'c-SC-s', 't-CS-m', 'c-SC-s', 't-CS-m', 't-CS-s', 't-CS-s', 't-SC-m', 't-CS-m', 'c-SC-s', 't-CS-s', 'c-SC-s', 't-CS-m', 't-SC-s', 'c-SC-s', 'c-SC-s', 'c-SC-s', 'c-SC-s', 'c-SC-s', 'c-SC-s', 'c-SC-s', 'c-CS-m', 'c-CS-s', 't-SC-m', 'c-CS-m', 'c-SC-m', 'c-SC-m', 'c-SC-s', 'c-SC-s', 'c-SC-s', 'c-SC-s', 't-CS-m', 'c-SC-s', 'c-SC-s', 'c-SC-s', 'c-CS-s', 'c-SC-s', 't-SC-m', 'c-SC-m', 'c-SC-s', 'c-SC-s', 'c-SC-s', 'c-SC-s', 't-SC-m', 'c-CS-m', 'c-SC-s', 't-SC-s', 'c-SC-s', 'c-SC-m', 'c-SC-s', 'c-SC-s', 't-CS-m', 'c-SC-s', 't-CS-s', 'c-SC-s', 't-CS-m', 'c-SC-s', 'c-SC-s', 'c-CS-s', 'c-SC-m', 'c-CS-s', 't-CS-s', 'c-SC-s', 'c-SC-s', 'c-SC-m', 'c-SC-m', 'c-SC-s', 'c-SC-s', 't-CS-m', 'c-SC-s', 'c-SC-s', 'c-SC-s', 'c-CS-m', 'c-SC-m', 't-CS-m', 'c-SC-s', 'c-SC-s', 'c-SC-s', 'c-SC-s', 'c-SC-s', 'c-SC-s', 'c-SC-s', 'c-SC-s', 'c-SC-s', 'c-SC-s', 'c-SC-s', 't-SC-m', 'c-SC-s', 'c-SC-s', 'c-SC-s', 'c-CS-s', 'c-SC-s', 'c-SC-s', 't-CS-m', 'c-CS-m', 'c-SC-s', 'c-CS-s', 'c-SC-s', 't-SC-s', 'c-CS-s', 'c-SC-s', 'c-SC-s', 'c-CS-s', 't-CS-m', 'c-SC-m', 'c-CS-s', 'c-SC-s', 't-CS-m', 'c-SC-s', 't-CS-m', 'c-SC-s', 'c-SC-s', 't-SC-s', 'c-SC-s', 'c-SC-s', 'c-SC-s', 'c-SC-s', 'c-SC-s', 'c-SC-s', 't-CS-m', 'c-SC-s', 't-CS-m', 'c-SC-s', 'c-SC-s', 'c-SC-s', 'c-SC-s', 'c-SC-s', 't-CS-s', 't-CS-m', 't-CS-s', 'c-SC-m', 't-CS-s', 'c-CS-s', 'c-SC-s', 'c-SC-s', 'c-SC-s', 'c-CS-m', 't-SC-s', 't-SC-s', 'c-SC-s', 'c-SC-s', 'c-SC-s', 'c-SC-s', 'c-CS-m', 'c-SC-s', 't-SC-s', 'c-SC-s', 'c-SC-s', 't-CS-m', 'c-SC-s', 'c-SC-m', 't-SC-s', 'c-SC-s', 'c-SC-s', 't-SC-m', 'c-SC-m']\n"
          ]
        }
      ],
      "source": [
        "from sklearn.metrics import confusion_matrix, ConfusionMatrixDisplay, classification_report\n",
        "from collections import Counter\n",
        "\n",
        "k=7\n",
        "\n",
        "# Ensure the data is numeric\n",
        "X_train = X_train.apply(pd.to_numeric, errors='coerce')\n",
        "X_test = X_test.apply(pd.to_numeric, errors='coerce')\n",
        "\n",
        "def predict(x):\n",
        "    # Compute Euclidean distances between x and all examples in the training set\n",
        "    distances = [np.linalg.norm(x - x_train) for x_train in X_train.values]\n",
        "\n",
        "    # Sort by distance and return indices of the first k neighbors\n",
        "    k_indices = np.argsort(distances)[:k]\n",
        "\n",
        "    # Extract the labels of the k nearest neighbor training samples\n",
        "    k_nearest_labels = [y_train.iloc[i] for i in k_indices]\n",
        "\n",
        "    # Return the most common class label\n",
        "    most_common = Counter(k_nearest_labels).most_common(1)\n",
        "    return most_common[0][0]\n",
        "\n",
        "y_pred = [predict(x) for x in X_test.values]\n",
        "print(y_pred)"
      ]
    },
    {
      "cell_type": "code",
      "execution_count": null,
      "metadata": {
        "id": "89a2V6mEvgPo",
        "outputId": "7b00a475-b735-434b-969b-e463c9bd0e24"
      },
      "outputs": [
        {
          "data": {
            "text/plain": [
              "array([[ 7,  4,  0, 21,  2,  0,  0,  0],\n",
              "       [ 1,  9,  0, 12,  0,  0,  0,  0],\n",
              "       [ 0,  0, 17, 23,  0,  0,  0,  0],\n",
              "       [ 0,  0,  0, 22,  0,  0,  0,  0],\n",
              "       [ 0,  0,  0,  8, 21,  0,  0,  0],\n",
              "       [ 0,  0,  0,  4,  0, 12,  0,  0],\n",
              "       [ 0,  0,  0, 16,  0,  0, 12,  0],\n",
              "       [ 0,  0,  0, 11,  0,  0,  0, 14]], dtype=int64)"
            ]
          },
          "execution_count": 14,
          "metadata": {},
          "output_type": "execute_result"
        }
      ],
      "source": [
        "cm = confusion_matrix(y_test, y_pred)\n",
        "cm"
      ]
    },
    {
      "cell_type": "code",
      "execution_count": null,
      "metadata": {
        "id": "B4yWWYCmvgPo",
        "outputId": "8360edc6-bc13-461f-a0cf-6d86a99bb2ee"
      },
      "outputs": [
        {
          "name": "stdout",
          "output_type": "stream",
          "text": [
            "              precision    recall  f1-score   support\n",
            "\n",
            "      c-CS-m       0.88      0.21      0.33        34\n",
            "      c-CS-s       0.69      0.41      0.51        22\n",
            "      c-SC-m       1.00      0.42      0.60        40\n",
            "      c-SC-s       0.19      1.00      0.32        22\n",
            "      t-CS-m       0.91      0.72      0.81        29\n",
            "      t-CS-s       1.00      0.75      0.86        16\n",
            "      t-SC-m       1.00      0.43      0.60        28\n",
            "      t-SC-s       1.00      0.56      0.72        25\n",
            "\n",
            "    accuracy                           0.53       216\n",
            "   macro avg       0.83      0.56      0.59       216\n",
            "weighted avg       0.85      0.53      0.58       216\n",
            "\n"
          ]
        }
      ],
      "source": [
        "print(classification_report(y_test, y_pred))"
      ]
    },
    {
      "cell_type": "markdown",
      "metadata": {
        "id": "52yTYbyjvgPp"
      },
      "source": [
        "## BREAST CANCER DATASET\n"
      ]
    },
    {
      "cell_type": "code",
      "execution_count": null,
      "metadata": {
        "id": "oYWlpDD8vgPp",
        "outputId": "02b0dc5e-ad49-4008-cb4f-ec0029a891a6"
      },
      "outputs": [
        {
          "name": "stdout",
          "output_type": "stream",
          "text": [
            "(286, 9)\n",
            "(286,)\n",
            "['no-recurrence-events' 'recurrence-events']\n",
            "**Author**:   \n",
            "**Source**: Unknown -   \n",
            "**Please cite**:   \n",
            "\n",
            "Citation Request:\n",
            "    This breast cancer domain was obtained from the University Medical Centre,\n",
            "    Institute of Oncology, Ljubljana, Yugoslavia.  Thanks go to M. Zwitter and \n",
            "    M. Soklic for providing the data.  Please include this citation if you plan\n",
            "    to use this database.\n",
            " \n",
            " 1. Title: Breast cancer data (Michalski has used this)\n",
            " \n",
            " 2. Sources: \n",
            "    -- Matjaz Zwitter & Milan Soklic (physicians)\n",
            "       Institute of Oncology \n",
            "       University Medical Center\n",
            "       Ljubljana, Yugoslavia\n",
            "    -- Donors: Ming Tan and Jeff Schlimmer (Jeffrey.Schlimmer@a.gp.cs.cmu.edu)\n",
            "    -- Date: 11 July 1988\n",
            " \n",
            " 3. Past Usage: (Several: here are some)\n",
            "      -- Michalski,R.S., Mozetic,I., Hong,J., & Lavrac,N. (1986). The \n",
            "         Multi-Purpose Incremental Learning System AQ15 and its Testing \n",
            "         Application to Three Medical Domains.  In Proceedings of the \n",
            "         Fifth National Conference on Artificial Intelligence, 1041-1045,\n",
            "         Philadelphia, PA: Morgan Kaufmann.\n",
            "         -- accuracy range: 66%-72%\n",
            "      -- Clark,P. & Niblett,T. (1987). Induction in Noisy Domains.  In \n",
            "         Progress in Machine Learning (from the Proceedings of the 2nd\n",
            "         European Working Session on Learning), 11-30, Bled, \n",
            "         Yugoslavia: Sigma Press.\n",
            "         -- 8 test results given: 65%-72% accuracy range\n",
            "      -- Tan, M., & Eshelman, L. (1988). Using weighted networks to \n",
            "         represent classification knowledge in noisy domains.  Proceedings \n",
            "         of the Fifth International Conference on Machine Learning, 121-134,\n",
            "         Ann Arbor, MI.\n",
            "         -- 4 systems tested: accuracy range was 68%-73.5%\n",
            "     -- Cestnik,G., Konenenko,I, & Bratko,I. (1987). Assistant-86: A\n",
            "        Knowledge-Elicitation Tool for Sophisticated Users.  In I.Bratko\n",
            "        & N.Lavrac (Eds.) Progress in Machine Learning, 31-45, Sigma Press.\n",
            "        -- Assistant-86: 78% accuracy\n",
            " \n",
            " 4. Relevant Information:\n",
            "      This is one of three domains provided by the Oncology Institute\n",
            "      that has repeatedly appeared in the machine learning literature.\n",
            "      (See also lymphography and primary-tumor.)\n",
            " \n",
            "      This data set includes 201 instances of one class and 85 instances of\n",
            "      another class.  The instances are described by 9 attributes, some of\n",
            "      which are linear and some are nominal.\n",
            " \n",
            " 5. Number of Instances: 286\n",
            " \n",
            " 6. Number of Attributes: 9 + the class attribute\n",
            " \n",
            " 7. Attribute Information:\n",
            "    1. Class: no-recurrence-events, recurrence-events\n",
            "    2. age: 10-19, 20-29, 30-39, 40-49, 50-59, 60-69, 70-79, 80-89, 90-99.\n",
            "    3. menopause: lt40, ge40, premeno.\n",
            "    4. tumor-size: 0-4, 5-9, 10-14, 15-19, 20-24, 25-29, 30-34, 35-39, 40-44,\n",
            "                   45-49, 50-54, 55-59.\n",
            "    5. inv-nodes: 0-2, 3-5, 6-8, 9-11, 12-14, 15-17, 18-20, 21-23, 24-26,\n",
            "                  27-29, 30-32, 33-35, 36-39.\n",
            "    6. node-caps: yes, no.\n",
            "    7. deg-malig: 1, 2, 3.\n",
            "    8. breast: left, right.\n",
            "    9. breast-quad: left-up, left-low, right-up, right-low, central.\n",
            "   10. irradiat: yes, no.\n",
            " \n",
            " 8. Missing Attribute Values: (denoted by \"?\")\n",
            "    Attribute #:  Number of instances with missing values:\n",
            "    6.             8\n",
            "    9.             1.\n",
            " \n",
            " 9. Class Distribution:\n",
            "     1. no-recurrence-events: 201 instances\n",
            "     2. recurrence-events: 85 instances\n",
            "\n",
            " Num Instances:     286\n",
            " Num Attributes:    10\n",
            " Num Continuous:    0 (Int 0 / Real 0)\n",
            " Num Discrete:      10\n",
            " Missing values:    9 /  0.3%\n",
            "\n",
            "     name                      type enum ints real     missing    distinct  (1)\n",
            "   1 'age'                     Enum 100%   0%   0%     0 /  0%     6 /  2%   0% \n",
            "   2 'menopause'               Enum 100%   0%   0%     0 /  0%     3 /  1%   0% \n",
            "   3 'tumor-size'              Enum 100%   0%   0%     0 /  0%    11 /  4%   0% \n",
            "   4 'inv-nodes'               Enum 100%   0%   0%     0 /  0%     7 /  2%   0% \n",
            "   5 'node-caps'               Enum  97%   0%   0%     8 /  3%     2 /  1%   0% \n",
            "   6 'deg-malig'               Enum 100%   0%   0%     0 /  0%     3 /  1%   0% \n",
            "   7 'breast'                  Enum 100%   0%   0%     0 /  0%     2 /  1%   0% \n",
            "   8 'breast-quad'             Enum 100%   0%   0%     1 /  0%     5 /  2%   0% \n",
            "   9 'irradiat'                Enum 100%   0%   0%     0 /  0%     2 /  1%   0% \n",
            "  10 'Class'                   Enum 100%   0%   0%     0 /  0%     2 /  1%   0%\n",
            "\n",
            "Downloaded from openml.org.\n"
          ]
        }
      ],
      "source": [
        "cancer_data = fetch_openml(name='breast-cancer', version=1)\n",
        "print(cancer_data.data.shape)\n",
        "print(cancer_data.target.shape)\n",
        "print(np.unique(cancer_data.target))\n",
        "print(cancer_data.DESCR)"
      ]
    },
    {
      "cell_type": "code",
      "execution_count": null,
      "metadata": {
        "id": "fVaNTUyVvgPp"
      },
      "outputs": [],
      "source": [
        "from sklearn.model_selection import train_test_split\n",
        "X_train, X_test, y_train, y_test = train_test_split(cancer_data.data, cancer_data.target,\n",
        "                                       test_size=0.20,\n",
        "                                       random_state=32,\n",
        "                                       shuffle=True)"
      ]
    },
    {
      "cell_type": "code",
      "execution_count": null,
      "metadata": {
        "id": "eVZNdJusvgPp",
        "outputId": "2507c722-fe3f-474e-d208-131efdb8f0a5"
      },
      "outputs": [
        {
          "name": "stdout",
          "output_type": "stream",
          "text": [
            "       age menopause tumor-size inv-nodes node-caps deg-malig breast  \\\n",
            "33   50-59      ge40      20-24       0-2        no         3  right   \n",
            "283  30-39   premeno      30-34       6-8       yes         2  right   \n",
            "46   60-69      ge40      10-14       0-2        no         2  right   \n",
            "135  30-39   premeno      15-19       0-2        no         1  right   \n",
            "116  40-49   premeno      30-34       6-8       yes         3  right   \n",
            "235  60-69      ge40      40-44       0-2        no         2  right   \n",
            "5    50-59   premeno      25-29       3-5        no         2  right   \n",
            "255  50-59   premeno      25-29       0-2        no         3  right   \n",
            "216  60-69      ge40      25-29       0-2        no         3   left   \n",
            "200  30-39   premeno        5-9       0-2        no         2   left   \n",
            "132  40-49   premeno      30-34       0-2        no         3  right   \n",
            "180  30-39   premeno      40-44       0-2        no         2  right   \n",
            "\n",
            "    breast-quad irradiat  \n",
            "33      left_up       no  \n",
            "283    right_up       no  \n",
            "46      left_up      yes  \n",
            "135    left_low       no  \n",
            "116     left_up       no  \n",
            "235    left_low       no  \n",
            "5       left_up      yes  \n",
            "255    left_low      yes  \n",
            "216     left_up       no  \n",
            "200   right_low       no  \n",
            "132    right_up       no  \n",
            "180    right_up       no  \n"
          ]
        }
      ],
      "source": [
        "print(X_train.iloc[0:12, :])"
      ]
    },
    {
      "cell_type": "code",
      "execution_count": null,
      "metadata": {
        "id": "0ajrvdFZvgPq",
        "outputId": "49c0efa4-35c5-4865-bf4e-656178f99fc0"
      },
      "outputs": [
        {
          "name": "stdout",
          "output_type": "stream",
          "text": [
            "33     no-recurrence-events\n",
            "283    no-recurrence-events\n",
            "46     no-recurrence-events\n",
            "135       recurrence-events\n",
            "116       recurrence-events\n",
            "235       recurrence-events\n",
            "5      no-recurrence-events\n",
            "255       recurrence-events\n",
            "216       recurrence-events\n",
            "200    no-recurrence-events\n",
            "132       recurrence-events\n",
            "180    no-recurrence-events\n",
            "Name: Class, dtype: category\n",
            "Categories (2, object): ['no-recurrence-events', 'recurrence-events']\n"
          ]
        }
      ],
      "source": [
        "print(y_train.iloc[0:12])"
      ]
    },
    {
      "cell_type": "code",
      "execution_count": null,
      "metadata": {
        "id": "8AplEukVvgPq",
        "outputId": "f8248e84-dd36-4da0-892d-696262b31a54"
      },
      "outputs": [
        {
          "name": "stdout",
          "output_type": "stream",
          "text": [
            "(286, 9)\n",
            "(286,)\n"
          ]
        }
      ],
      "source": [
        "print(cancer_data.data.shape)\n",
        "print(cancer_data.target.shape)"
      ]
    },
    {
      "cell_type": "code",
      "execution_count": null,
      "metadata": {
        "id": "RYRmAGKAvgPq"
      },
      "outputs": [],
      "source": [
        "import pandas as pd\n",
        "\n",
        "k=7\n",
        "\n",
        "# Ensure the data is numeric\n",
        "X_train = X_train.apply(pd.to_numeric, errors='coerce')\n",
        "X_test = X_test.apply(pd.to_numeric, errors='coerce')\n",
        "\n",
        "def predict(x):\n",
        "    # Compute Euclidean distances between x and all examples in the training set\n",
        "    distances = [np.linalg.norm(x - x_train) for x_train in X_train.values]\n",
        "\n",
        "    # Sort by distance and return indices of the first k neighbors\n",
        "    k_indices = np.argsort(distances)[:k]\n",
        "\n",
        "    # Extract the labels of the k nearest neighbor training samples\n",
        "    k_nearest_labels = [y_train.iloc[i] for i in k_indices]\n",
        "\n",
        "    # Return the most common class label\n",
        "    most_common = Counter(k_nearest_labels).most_common(1)\n",
        "    return most_common[0][0]\n",
        "\n",
        "y_pred = [predict(x) for x in X_test.values]"
      ]
    },
    {
      "cell_type": "code",
      "execution_count": null,
      "metadata": {
        "id": "j-o2KItjvgPr",
        "outputId": "d397d0bb-4e1d-4b93-bb52-c2d9739814fa"
      },
      "outputs": [
        {
          "data": {
            "text/plain": [
              "array([[42,  0],\n",
              "       [16,  0]], dtype=int64)"
            ]
          },
          "execution_count": 22,
          "metadata": {},
          "output_type": "execute_result"
        }
      ],
      "source": [
        "cm = confusion_matrix(y_test, y_pred)\n",
        "cm"
      ]
    },
    {
      "cell_type": "code",
      "execution_count": null,
      "metadata": {
        "id": "zO1M6DhTvgPr",
        "outputId": "2b4d5cc8-17d1-497f-d117-50648f0a199a"
      },
      "outputs": [
        {
          "name": "stdout",
          "output_type": "stream",
          "text": [
            "                      precision    recall  f1-score   support\n",
            "\n",
            "no-recurrence-events       0.72      1.00      0.84        42\n",
            "   recurrence-events       0.00      0.00      0.00        16\n",
            "\n",
            "            accuracy                           0.72        58\n",
            "           macro avg       0.36      0.50      0.42        58\n",
            "        weighted avg       0.52      0.72      0.61        58\n",
            "\n"
          ]
        },
        {
          "name": "stderr",
          "output_type": "stream",
          "text": [
            "c:\\Users\\AmanDeep\\AppData\\Local\\Programs\\Python\\Python312\\Lib\\site-packages\\sklearn\\metrics\\_classification.py:1517: UndefinedMetricWarning: Precision is ill-defined and being set to 0.0 in labels with no predicted samples. Use `zero_division` parameter to control this behavior.\n",
            "  _warn_prf(average, modifier, f\"{metric.capitalize()} is\", len(result))\n",
            "c:\\Users\\AmanDeep\\AppData\\Local\\Programs\\Python\\Python312\\Lib\\site-packages\\sklearn\\metrics\\_classification.py:1517: UndefinedMetricWarning: Precision is ill-defined and being set to 0.0 in labels with no predicted samples. Use `zero_division` parameter to control this behavior.\n",
            "  _warn_prf(average, modifier, f\"{metric.capitalize()} is\", len(result))\n",
            "c:\\Users\\AmanDeep\\AppData\\Local\\Programs\\Python\\Python312\\Lib\\site-packages\\sklearn\\metrics\\_classification.py:1517: UndefinedMetricWarning: Precision is ill-defined and being set to 0.0 in labels with no predicted samples. Use `zero_division` parameter to control this behavior.\n",
            "  _warn_prf(average, modifier, f\"{metric.capitalize()} is\", len(result))\n"
          ]
        }
      ],
      "source": [
        "print(classification_report(y_test, y_pred))"
      ]
    },
    {
      "cell_type": "markdown",
      "metadata": {
        "id": "Hyc9-Z-pvgPr"
      },
      "source": [
        "## TASK 2\n",
        "\n",
        "##  use user-defined k-NN for Regression"
      ]
    },
    {
      "cell_type": "code",
      "execution_count": null,
      "metadata": {
        "id": "sIh-_p1bvgPr"
      },
      "outputs": [],
      "source": [
        "from sklearn.datasets import fetch_california_housing\n",
        "import numpy as np\n",
        "from sklearn.model_selection import train_test_split\n",
        "\n",
        "#here is the link to find all the datasets available in sklearn https://scikit-learn.org/stable/datasets.html\n",
        "X, y = fetch_california_housing(return_X_y=True)\n",
        "\n",
        "X_train, X_test, y_train, y_test = train_test_split(X, y, test_size=0.2, random_state=42)"
      ]
    },
    {
      "cell_type": "code",
      "execution_count": null,
      "metadata": {
        "id": "qQ9TCsINvgPr",
        "outputId": "4071ef05-7b18-41c0-f41b-9462f119c43b"
      },
      "outputs": [
        {
          "name": "stdout",
          "output_type": "stream",
          "text": [
            "[1.5071428571428573, 1.3718571428571429, 2.714857142857143, 2.4174285714285717, 1.468142857142857, 2.2914285714285714, 2.62943, 2.200142857142857, 1.7991428571428574, 2.4761428571428574, 1.5048571428571427, 1.5201428571428568, 1.8442857142857143, 2.334142857142857, 1.7054285714285715, 2.398714285714285, 2.1171442857142857, 1.8474285714285712, 2.7415714285714285, 1.6372857142857142, 1.5115714285714286, 2.4994285714285716, 1.5302857142857145, 1.8587142857142858, 1.8392857142857142, 1.426, 2.281857142857143, 1.7422857142857144, 1.184, 2.267572857142857, 1.3865714285714286, 1.6882857142857142, 2.3111428571428574, 2.2367142857142857, 2.78043, 1.81, 2.815714285714286, 1.5432857142857144, 1.4798571428571428, 2.7825728571428576, 1.7552857142857143, 2.1617142857142855, 1.8952857142857142, 1.8511428571428572, 1.9949999999999999, 2.55943, 1.8671428571428572, 1.995142857142857, 2.5500000000000003, 1.8571428571428574, 1.657714285714286, 1.8217142857142858, 2.4682871428571427, 1.685142857142857, 2.021572857142857, 1.9570000000000003, 1.9214285714285713, 2.1157157142857144, 2.011571428571429, 2.2155714285714287, 2.419, 2.547, 1.5051428571428571, 1.2127142857142856, 2.427142857142857, 1.7537142857142858, 2.0012857142857143, 1.4567142857142856, 1.895857142857143, 2.12843, 1.6847142857142856, 1.5524285714285713, 1.0915714285714284, 1.839142857142857, 2.274715714285714, 1.504714285714286, 1.4564285714285714, 1.7967142857142855, 2.385857142857143, 2.5422857142857143, 1.4744285714285712, 1.8292857142857144, 1.773, 1.910857142857143, 2.3482857142857143, 2.0167142857142855, 1.297857142857143, 1.6442857142857144, 1.8497142857142854, 2.3405714285714287, 3.0685728571428568, 1.8057142857142858, 2.1067142857142858, 1.5328571428571427, 2.0302857142857147, 1.5282857142857142, 2.121857142857143, 2.0747142857142857, 1.6211428571428572, 1.4284285714285716, 1.3231428571428572, 2.394285714285714, 2.1292857142857144, 1.962287142857143, 2.2594285714285713, 1.7459999999999998, 2.347142857142857, 2.189572857142857, 2.365142857142857, 1.582857142857143, 1.9794285714285713, 2.7177157142857142, 2.1928585714285713, 2.121857142857143, 2.041, 2.012571428571429, 2.499428571428571, 3.085431428571429, 2.1661442857142856, 2.3377142857142856, 2.3338571428571426, 1.770857142857143, 1.8502871428571428, 1.619142857142857, 2.89343, 2.0982857142857148, 1.698, 2.0211428571428574, 1.660142857142857, 2.403857142857143, 1.9715714285714283, 3.86686, 2.341571428571428, 2.1501428571428574, 1.7694285714285716, 2.1581428571428574, 2.2614285714285716, 2.230571428571429, 1.7074285714285715, 2.3425714285714285, 1.9581428571428572, 2.218285714285714, 1.7404285714285714, 1.4408571428571428, 2.6071442857142855, 1.781285714285714, 2.268142857142857, 2.0092857142857143, 1.701285714285714, 2.7804299999999995, 1.7782857142857142, 1.6014285714285712, 2.1194285714285717, 1.4444285714285712, 2.5638571428571426, 2.8277157142857137, 1.7639999999999998, 2.7281442857142855, 1.5310000000000001, 1.5145714285714287, 1.475571428571429, 1.9061428571428571, 2.363857142857143, 1.5582857142857145, 2.0042842857142857, 1.4461428571428574, 2.1162857142857145, 1.9347142857142858, 1.643, 2.1330014285714287, 1.6715714285714287, 2.489572857142857, 2.548572857142857, 3.3205742857142857, 2.599571428571429, 2.89043, 1.6937142857142857, 2.0104285714285717, 2.1152857142857147, 2.2244285714285716, 1.6865714285714284, 2.021857142857143, 2.6951442857142855, 2.0571442857142856, 1.603, 1.4541428571428572, 1.8725714285714286, 2.059857142857143, 3.441287142857143, 1.909857142857143, 1.7964285714285713, 1.2165714285714286, 1.6774285714285715, 2.0740000000000003, 1.2127142857142859, 1.1549999999999998, 2.118, 2.483285714285714, 2.6730014285714288, 1.9158571428571431, 2.4605714285714284, 1.6865714285714284, 2.4972857142857143, 2.1534285714285715, 2.288, 1.6075714285714287, 2.2455714285714286, 1.5304285714285715, 2.469287142857143, 1.8942857142857146, 2.4968571428571424, 2.479, 1.663, 2.5047142857142854, 2.0024285714285717, 1.934, 1.512142857142857, 2.0934285714285714, 2.2321442857142855, 1.799, 1.4597142857142857, 1.406, 2.5695728571428567, 3.0077171428571425, 1.9898585714285715, 1.8335700000000001, 3.180715714285714, 2.0867142857142857, 2.105714285714286, 3.06243, 2.1220000000000003, 1.957142857142857, 2.284714285714286, 1.9497157142857142, 2.0657142857142854, 2.410285714285714, 2.439, 2.907715714285714, 1.6785714285714284, 3.1961442857142854, 1.6889999999999998, 1.6245714285714286, 2.1334285714285715, 3.8360042857142855, 1.1668571428571428, 2.444714285714286, 2.6164285714285715, 2.183715714285714, 2.6200014285714284, 2.287857142857143, 1.5532857142857142, 2.496714285714286, 1.7617142857142856, 1.7214285714285715, 1.7235714285714288, 1.8124285714285715, 1.481, 1.842142857142857, 1.8197142857142856, 2.2624285714285715, 1.928572857142857, 1.7775714285714286, 2.826288571428571, 2.3535714285714286, 1.5625714285714287, 2.268572857142857, 1.9148571428571428, 2.4085714285714284, 1.4168571428571428, 2.1654285714285715, 4.356577142857143, 2.6172857142857144, 1.3185714285714287, 2.067142857142857, 2.375857142857143, 1.721857142857143, 1.6315714285714285, 1.709857142857143, 2.1879999999999997, 2.4880014285714287, 1.8774285714285717, 1.937857142857143, 1.7072857142857143, 2.6581442857142856, 2.4321428571428574, 1.4150000000000003, 2.1394285714285717, 2.388858571428571, 1.9975714285714286, 2.59543, 1.7161428571428574, 1.935142857142857, 2.151, 1.3914285714285712, 2.1677157142857144, 1.372142857142857, 1.5812857142857142, 0.8337142857142856, 3.034142857142857, 2.4324285714285714, 1.8097142857142858, 1.1281428571428571, 2.2047142857142856, 1.913857142857143, 2.7288585714285714, 2.8595714285714284, 1.966, 1.0217142857142856, 2.261857142857143, 2.077857142857143, 1.6731428571428573, 1.5578571428571428, 1.652, 2.483144285714286, 3.923861428571428, 2.179572857142857, 1.9560000000000002, 2.202571428571429, 1.6475714285714287, 2.166715714285714, 2.077428571428572, 1.6427142857142858, 2.2292857142857145, 2.560142857142857, 1.9557142857142857, 1.3824285714285713, 2.2695728571428573, 1.3697142857142857, 1.8124300000000002, 1.4208571428571428, 2.695572857142857, 1.997142857142857, 1.7964300000000002, 1.7554285714285716, 1.243285714285714, 2.56, 2.040714285714286, 2.3814300000000004, 1.0162857142857142, 2.4975714285714288, 2.6565714285714286, 1.6175714285714284, 1.4524285714285714, 2.421714285714286, 1.5661428571428573, 1.3302857142857143, 2.392285714285715, 2.0479999999999996, 3.8181471428571423, 1.604714285714286, 2.0664285714285713, 1.8787142857142858, 2.1215714285714284, 1.497571428571429, 2.15, 1.7417142857142858, 1.842, 2.4672857142857145, 2.7141442857142857, 1.9515714285714285, 2.517571428571429, 2.319715714285714, 1.8470014285714285, 1.5678571428571428, 2.0678571428571426, 2.81143, 1.8157142857142856, 2.6499999999999995, 2.1052857142857144, 2.428142857142857, 1.5807142857142857, 1.0364285714285715, 1.7608571428571427, 2.0131442857142856, 1.1122857142857143, 2.584, 1.6760000000000002, 2.0298571428571432, 1.7917142857142856, 2.1107142857142853, 2.3932857142857142, 3.1942871428571427, 1.5361428571428573, 2.619, 2.3240000000000003, 2.2344285714285714, 1.711142857142857, 1.65, 1.9625728571428573, 2.1445714285714286, 1.733, 2.535428571428571, 2.7721428571428572, 1.6500000000000001, 1.7882857142857145, 1.8774285714285714, 4.579435714285714, 1.7185714285714284, 2.278714285714286, 1.8361428571428569, 1.9901428571428572, 2.6702857142857144, 1.7235714285714285, 1.333857142857143, 2.1341428571428573, 1.1662857142857146, 2.2339999999999995, 2.35143, 1.3397142857142856, 2.244285714285714, 2.6060014285714286, 3.1190014285714285, 2.1935714285714285, 1.6868571428571428, 1.372142857142857, 1.6822857142857142, 0.9961428571428571, 1.5577142857142856, 1.8712857142857142, 2.0662857142857143, 1.2, 1.714, 2.1438571428571427, 1.525, 2.057858571428571, 1.7998571428571426, 3.353142857142857, 1.9988571428571427, 1.675142857142857, 2.6151428571428568, 0.8942857142857144, 2.6288571428571426, 2.2375728571428573, 2.1092857142857144, 2.140714285714286, 2.1615714285714285, 3.1007157142857147, 2.1025714285714288, 1.7419999999999998, 1.868285714285714, 1.8342857142857143, 1.6652857142857143, 2.061285714285714, 2.75, 2.254714285714286, 2.2525714285714282, 2.1724285714285716, 1.569857142857143, 2.0101428571428572, 1.3484285714285715, 2.358285714285714, 2.2584285714285715, 2.026857142857143, 1.7137142857142857, 1.6059999999999999, 2.7485714285714287, 2.2317142857142858, 1.8735714285714284, 2.0915714285714286, 1.837, 1.7705714285714287, 3.3830042857142852, 1.9990000000000003, 1.8019999999999998, 1.9188585714285715, 1.6911428571428573, 1.4977142857142858, 1.7970000000000002, 1.576857142857143, 1.6945714285714288, 2.124142857142857, 2.6452871428571427, 1.654, 1.1912857142857143, 2.4855714285714288, 1.7414285714285715, 2.214287142857143, 1.3432857142857142, 1.9482857142857146, 1.4487142857142856, 2.043285714285714, 1.9695714285714288, 1.84, 2.081285714285714, 2.290714285714286, 2.4057142857142852, 1.6795714285714287, 2.5135728571428575, 1.6731428571428573, 1.8030000000000002, 2.339714285714286, 1.836285714285714, 1.6700000000000002, 1.4309999999999998, 2.3642857142857143, 2.91743, 1.9364285714285716, 1.9712857142857143, 1.902, 1.7922857142857143, 2.376145714285714, 2.142857142857143, 1.938285714285714, 1.4225714285714286, 2.0171428571428573, 2.2028571428571433, 1.743142857142857, 2.0132871428571426, 2.661142857142857, 1.615, 2.2712871428571426, 1.483285714285714, 2.2605714285714287, 2.1102857142857148, 2.1, 2.208, 1.9891428571428573, 2.345142857142857, 1.5207142857142857, 1.7697142857142858, 2.2582857142857145, 1.622142857142857, 3.011431428571428, 1.736, 2.677, 1.738, 2.068572857142857, 1.566142857142857, 2.3761428571428573, 1.8851442857142857, 1.2072857142857143, 1.0222857142857142, 1.3234285714285716, 2.103142857142857, 2.2887142857142857, 1.9481442857142857, 2.556, 1.956, 2.885001428571429, 1.3134285714285716, 2.0967142857142855, 2.37243, 2.2878585714285715, 1.7757142857142856, 1.6885714285714286, 2.7212871428571432, 1.6428571428571428, 3.5511442857142845, 2.5000014285714287, 2.000285714285714, 1.830142857142857, 1.554142857142857, 1.991, 1.9155714285714287, 1.5538571428571426, 1.5037142857142853, 2.007857142857143, 1.9317142857142857, 2.025, 1.5328571428571427, 3.2402871428571425, 2.195, 2.2872871428571426, 2.0692857142857144, 1.3822857142857143, 2.4292871428571425, 2.54786, 2.9218585714285714, 2.7125714285714286, 2.133857142857143, 2.451287142857143, 1.5585714285714285, 2.4721442857142857, 3.184144285714286, 2.1997142857142853, 1.605, 1.574857142857143, 2.680572857142857, 2.090572857142857, 3.055145714285714, 1.5242857142857145, 2.818574285714285, 3.472858571428571, 1.3489999999999998, 2.195142857142857, 1.7865714285714287, 1.877857142857143, 1.6157142857142859, 1.4922857142857144, 2.115715714285714, 2.6687157142857143, 1.780857142857143, 2.3244285714285717, 1.7025714285714284, 1.8677142857142857, 2.7055714285714285, 2.648144285714286, 1.4127142857142858, 1.849714285714286, 3.5218628571428567, 1.6108571428571428, 2.6042857142857136, 2.2847142857142857, 1.8990000000000002, 1.4737142857142855, 2.3081428571428573, 2.241285714285714, 2.040857142857143, 1.6527142857142856, 1.7095714285714287, 1.6664299999999999, 1.9588571428571429, 1.5992857142857144, 2.6632871428571425, 2.3367142857142857, 2.155714285714286, 1.7467142857142854, 1.916714285714286, 2.593858571428572, 2.322715714285714, 2.752144285714286, 1.5992857142857144, 1.7244285714285716, 1.4755714285714288, 4.817435714285714, 2.408285714285714, 2.4921442857142857, 2.1474285714285712, 1.6365714285714286, 2.827572857142857, 2.899285714285714, 2.327142857142857, 2.119428571428571, 1.5291428571428571, 2.2758585714285715, 2.64843, 2.2305742857142854, 2.5064285714285712, 2.048142857142857, 1.0745714285714285, 1.6779999999999997, 1.9759985714285713, 1.8011428571428572, 2.752144285714285, 1.6264285714285713, 2.8142871428571428, 1.7290000000000003, 1.8524285714285715, 1.3181428571428573, 2.068857142857143, 1.7184285714285714, 2.177714285714286, 1.5962857142857143, 2.0708585714285714, 2.2658585714285713, 1.8858571428571427, 1.4688571428571429, 1.819142857142857, 2.3820014285714284, 2.1581428571428574, 1.2677142857142858, 1.6674285714285713, 2.0468571428571427, 2.1101428571428573, 1.6824285714285714, 2.183, 1.2859999999999998, 1.986142857142857, 2.3652871428571425, 1.7375714285714283, 2.151572857142857, 1.5395714285714288, 3.1272885714285716, 1.2832857142857144, 2.3992857142857145, 2.63, 2.5877142857142856, 1.8341442857142858, 3.4414285714285717, 2.269285714285714, 2.0914285714285716, 1.8704285714285713, 1.3851428571428575, 2.1247142857142856, 1.9545714285714286, 2.4670014285714283, 2.0455714285714284, 2.2711442857142856, 2.437287142857143, 2.3417142857142856, 2.0734285714285714, 2.1937142857142855, 1.7145714285714284, 2.34343, 2.0974285714285714, 2.0025714285714282, 1.7895714285714288, 2.001, 1.3354285714285716, 1.7544285714285712, 1.3350000000000002, 2.013857142857143, 2.0867142857142857, 2.3447142857142858, 1.6067142857142858, 3.2744314285714284, 1.6132857142857142, 2.364, 1.7988571428571427, 1.9781428571428574, 1.9508571428571426, 1.9090000000000003, 2.213571428571429, 1.5125714285714287, 1.4642857142857142, 2.133715714285714, 2.6404285714285716, 1.647285714285714, 2.024857142857143, 1.0291428571428571, 2.5405714285714285, 1.67, 2.417714285714286, 2.128001428571429, 2.5107142857142857, 1.1874285714285715, 2.0614285714285714, 1.4965714285714287, 1.9368571428571428, 1.8215714285714284, 1.903, 1.6971428571428573, 1.8424285714285717, 2.0678571428571426, 2.7292871428571424, 2.044572857142857, 2.2470014285714286, 2.012857142857143, 1.175, 1.6314285714285715, 1.5994285714285716, 1.8564285714285715, 1.6170000000000002, 3.4688599999999994, 1.6315714285714285, 1.8381428571428573, 2.1132857142857144, 1.5351428571428571, 1.6525714285714288, 1.6422857142857141, 1.4451428571428573, 2.6095714285714284, 1.6304285714285716, 2.0622857142857143, 2.5540014285714285, 1.8095714285714288, 1.6285714285714286, 2.214, 1.7328571428571427, 2.5394285714285716, 1.8610000000000002, 1.7497142857142856, 1.7202857142857142, 2.6867157142857145, 2.857287142857143, 2.813287142857143, 1.6204285714285713, 2.7655728571428573, 2.690428571428572, 1.7952857142857146, 1.815, 1.7297142857142858, 1.973428571428571, 1.8092857142857142, 2.571142857142857, 1.8452857142857142, 1.6607142857142858, 1.9847142857142859, 1.8842857142857141, 2.1554285714285717, 1.8844285714285713, 2.020857142857143, 2.092714285714286, 2.8471442857142857, 1.44, 1.904, 2.677285714285714, 1.813142857142857, 1.3318571428571429, 1.3897142857142857, 1.9728571428571429, 2.0364285714285715, 1.8502857142857145, 1.5718571428571428, 1.8917142857142857, 2.1385714285714283, 2.5661457142857143, 1.363, 1.4614285714285713, 1.5967142857142858, 2.0429999999999997, 1.9815714285714285, 2.193285714285714, 1.3185714285714287, 1.7338571428571428, 1.872, 1.6745714285714286, 1.9607142857142856, 1.5272857142857141, 2.2627142857142855, 2.588857142857143, 1.723285714285714, 1.3311428571428574, 1.9161428571428571, 1.4887142857142857, 1.8160000000000003, 1.735857142857143, 1.5587142857142857, 2.2528571428571427, 2.2819999999999996, 2.6767142857142856, 1.7401428571428572, 1.612142857142857, 2.036142857142857, 2.2147142857142854, 1.812, 2.126, 1.7868571428571427, 1.791572857142857, 3.1401428571428567, 1.8365714285714285, 2.1815714285714285, 1.4382857142857142, 2.013428571428572, 1.9512857142857143, 1.472, 1.8957142857142857, 3.682717142857143, 2.3497157142857144, 2.0152857142857146, 1.6337142857142857, 2.064857142857143, 2.2624285714285715, 1.594, 1.959, 1.993, 1.5464285714285713, 1.7461428571428572, 1.483142857142857, 2.9521442857142857, 1.3977142857142855, 1.7075714285714287, 2.320858571428571, 1.5287142857142857, 1.885142857142857, 1.5505714285714285, 2.468142857142857, 2.9427171428571426, 2.3145714285714285, 2.341142857142857, 2.000571428571429, 1.8108571428571427, 2.509, 1.709, 1.7001428571428572, 1.7752857142857146, 1.4292857142857145, 2.456, 1.866, 2.084144285714286, 2.0660000000000003, 1.9957157142857143, 2.1717157142857144, 1.6895714285714283, 2.188, 1.831714285714286, 2.8954314285714284, 2.163, 2.43243, 1.175, 1.8225714285714285, 1.3544285714285713, 3.314574285714286, 2.0971442857142857, 1.61, 2.096857142857143, 1.2038571428571427, 1.8075714285714286, 2.0770000000000004, 2.2091428571428575, 1.824, 1.371, 1.5494285714285714, 2.222857142857143, 3.3211457142857137, 2.7587157142857146, 1.429285714285714, 1.6170000000000002, 1.6838571428571427, 2.1750014285714285, 1.917714285714286, 1.9972857142857143, 1.9800000000000002, 2.282857142857143, 3.2481457142857146, 1.7434285714285715, 2.948001428571428, 1.3722857142857143, 1.6284285714285716, 2.4745714285714286, 2.335285714285714, 1.865142857142857, 1.5715714285714284, 1.6480000000000001, 3.8155757142857145, 1.3774285714285717, 2.8252871428571424, 1.9150000000000003, 1.6334285714285717, 2.555, 1.9860014285714285, 2.886857142857143, 2.2134285714285715, 2.72543, 1.7197142857142858, 1.199857142857143, 2.362714285714286, 2.2658571428571426, 2.2275714285714288, 2.599857142857143, 2.2712871428571426, 2.089571428571429, 1.8604299999999998, 2.3477157142857146, 2.5844285714285715, 1.9881428571428572, 1.874, 1.900714285714286, 1.7654285714285716, 2.5255714285714284, 1.5758571428571433, 2.773287142857143, 3.303001428571428, 2.582287142857143, 2.452714285714286, 1.9325714285714286, 1.524142857142857, 1.1855714285714287, 2.2241428571428576, 2.600857142857143, 2.194714285714286, 1.8832857142857145, 1.2487142857142857, 1.5301428571428572, 1.3622857142857139, 3.250572857142857, 1.3604285714285713, 1.984, 1.8257142857142856, 1.2534285714285713, 2.141142857142857, 2.612144285714286, 2.2208585714285713, 1.760142857142857, 2.2365714285714287, 1.4355714285714285, 2.336287142857143, 2.062857142857143, 2.057, 1.8227142857142857, 2.2888599999999997, 1.9862857142857142, 2.1592857142857143, 2.076571428571429, 1.5037142857142853, 2.3790014285714283, 1.9925714285714289, 1.5111428571428571, 1.1622857142857144, 2.001428571428572, 2.1227142857142858, 2.5904285714285717, 1.7852857142857144, 2.402142857142857, 2.367142857142857, 1.9125714285714286, 3.095428571428571, 2.778714285714286, 1.4425714285714286, 2.0690014285714287, 1.6471428571428572, 3.337572857142857, 2.073, 1.4987142857142857, 1.9077142857142857, 2.6759999999999997, 1.8638571428571429, 1.4705714285714286, 3.159144285714286, 2.0610000000000004, 2.483571428571429, 1.532857142857143, 1.8877142857142857, 3.103288571428571, 1.6642857142857144, 1.417, 2.079, 1.4762857142857142, 2.5250014285714286, 1.485142857142857, 2.4308599999999996, 2.0, 2.0092857142857143, 1.6842857142857144, 2.7464285714285714, 2.2738571428571426, 1.3762857142857143, 2.123714285714285, 2.3695714285714287, 2.2102871428571427, 1.9008571428571428, 3.0187142857142857, 1.2445714285714284, 1.6207142857142858, 1.5667142857142857, 2.1404285714285716, 2.1182857142857143, 2.4727142857142854, 1.9995714285714286, 2.2328571428571427, 2.1085714285714285, 1.8962857142857141, 2.2012871428571428, 2.3449999999999998, 1.933142857142857, 1.770571428571429, 1.7374285714285715, 1.6192857142857144, 1.6025714285714288, 3.260144285714286, 3.1110014285714285, 1.292714285714286, 1.5111428571428571, 1.692, 2.161714285714286, 2.099287142857143, 2.3674299999999997, 1.8802857142857141, 1.8705714285714286, 1.7085714285714284, 1.6457142857142857, 2.081428571428572, 2.200001428571428, 1.6107142857142858, 2.1005714285714285, 1.719, 2.073714285714286, 2.9025728571428573, 1.365, 1.143857142857143, 1.8155714285714286, 1.4364285714285714, 1.6214285714285714, 2.1158571428571427, 1.663, 1.6114285714285717, 1.873, 1.375, 1.9281428571428572, 1.692142857142857, 1.960285714285714, 1.6645714285714288, 2.144, 3.0104285714285717, 1.8402871428571428, 2.023, 2.7561442857142855, 1.493, 3.5155728571428573, 1.4617142857142855, 3.923861428571428, 2.7928571428571423, 2.104142857142857, 1.8894285714285712, 1.510857142857143, 1.3735714285714287, 2.401857142857143, 2.41443, 2.025, 1.6039999999999999, 1.7265714285714289, 1.2584285714285717, 1.8442871428571428, 1.7237142857142858, 2.3914299999999997, 2.1572857142857145, 2.154715714285714, 1.6445714285714286, 2.380571428571429, 2.526287142857143, 1.8511428571428572, 2.101572857142857, 2.5701428571428573, 1.822428571428571, 1.7501428571428572, 2.1685714285714286, 1.3314285714285714, 2.039285714285714, 2.481857142857143, 2.0665714285714287, 2.1107142857142853, 2.330428571428572, 2.880717142857143, 2.0297142857142854, 1.5595714285714286, 2.265714285714286, 2.803002857142857, 1.6932857142857145, 2.294715714285714, 1.3327142857142857, 1.202857142857143, 1.0411428571428574, 1.6259985714285714, 1.3635714285714289, 1.8495714285714284, 2.7211428571428575, 1.6655714285714285, 1.7328571428571427, 2.240142857142857, 3.244002857142857, 1.8387142857142855, 1.2308571428571429, 1.4552857142857143, 2.988285714285715, 1.8387142857142857, 2.2365714285714287, 2.2134285714285715, 1.5415714285714284, 1.6882857142857142, 2.354714285714286, 3.063145714285714, 1.4848571428571429, 1.402, 2.2182857142857144, 2.2700014285714283, 2.0662857142857143, 2.408142857142857, 1.6184285714285715, 2.464, 1.7348571428571429, 2.7484285714285717, 2.1860000000000004, 1.7488571428571429, 1.490142857142857, 1.8248571428571427, 1.5755714285714286, 1.425, 1.7288571428571429, 1.689714285714286, 2.824287142857142, 2.6187142857142858, 1.742285714285714, 1.4967142857142857, 2.60843, 1.185, 2.0177142857142853, 2.2782857142857145, 2.095142857142857, 2.2324285714285717, 1.778857142857143, 1.3605714285714288, 2.2961442857142855, 1.7114285714285715, 1.989142857142857, 1.3327142857142857, 1.5557142857142858, 1.3001428571428573, 1.990714285714286, 1.7894285714285716, 2.713285714285714, 1.2698571428571428, 2.067857142857143, 2.5214285714285714, 2.005714285714286, 1.297857142857143, 3.0617157142857145, 1.974285714285714, 2.2517142857142853, 1.9624285714285716, 1.5815714285714286, 1.711, 1.8418571428571429, 1.9524285714285714, 2.023142857142857, 2.0837142857142856, 1.5415714285714286, 1.0678571428571428, 2.232285714285714, 1.5514285714285716, 2.596285714285714, 1.624142857142857, 2.1874285714285713, 1.8845714285714283, 1.9038571428571427, 2.9381442857142863, 1.590142857142857, 3.192285714285714, 1.6751428571428573, 2.158, 1.6590000000000003, 1.8831428571428572, 1.5909999999999997, 0.9855714285714285, 2.187572857142857, 2.5101457142857138, 1.6975714285714287, 1.3379999999999999, 2.9214300000000004, 2.1767142857142856, 2.078287142857143, 1.5907142857142857, 1.727285714285714, 2.3497142857142856, 2.852572857142857, 2.1119999999999997, 1.6958585714285714, 1.5985714285714285, 1.4798571428571428, 1.4064285714285714, 1.768142857142857, 4.353004285714285, 1.6772857142857143, 1.6827142857142856, 1.9942857142857144, 2.976145714285714, 2.374, 1.2765714285714285, 1.7364285714285717, 1.7601428571428575, 2.2927142857142857, 1.7222857142857144, 3.2727142857142857, 1.9124285714285716, 2.5765728571428568, 2.1482871428571433, 1.4124285714285711, 1.9995714285714283, 2.1187142857142858, 1.7687142857142857, 1.6561428571428571, 2.0221428571428572, 1.719142857142857, 2.2392857142857143, 1.7155714285714285, 2.518572857142857, 2.0310014285714284, 1.9797142857142858, 1.945, 2.104, 2.815858571428571, 1.8021428571428573, 1.486142857142857, 1.338285714285714, 1.3927142857142858, 2.0325714285714285, 2.676001428571429, 1.8864285714285713, 1.6374285714285717, 2.0751442857142854, 1.931285714285714, 2.0265714285714287, 1.9087142857142856, 2.675857142857143, 1.8805714285714286, 2.8278571428571433, 1.5187142857142857, 2.186714285714286, 2.35443, 4.097002857142857, 1.9449999999999998, 2.253285714285714, 1.8164285714285715, 2.773287142857143, 3.1284300000000003, 1.9294285714285715, 3.018572857142857, 1.9528571428571428, 1.9360014285714284, 1.8234285714285716, 1.467857142857143, 2.162285714285715, 2.534715714285714, 2.1757157142857144, 2.541857142857143, 1.836142857142857, 2.2108571428571433, 1.3291428571428572, 1.8327142857142855, 3.2787171428571424, 2.3318585714285716, 2.3429999999999995, 2.213142857142857, 2.0211428571428574, 1.7412857142857143, 0.9498571428571428, 1.9832857142857143, 2.389572857142857, 2.3024285714285715, 1.668, 2.2824285714285715, 1.4114285714285713, 1.9765714285714289, 2.0207142857142855, 1.9327142857142856, 1.4469999999999998, 2.0022857142857142, 1.5975714285714286, 1.8330000000000002, 1.572285714285714, 1.7007142857142858, 2.779857142857143, 2.395428571428571, 2.4291428571428573, 2.289144285714286, 1.9097142857142857, 1.8295714285714286, 1.679, 1.6322857142857146, 2.0015714285714283, 2.408857142857143, 2.053142857142857, 2.2254285714285715, 1.628, 1.5097142857142856, 1.6432857142857142, 3.000142857142857, 2.3687142857142858, 1.762, 2.963857142857143, 2.1877142857142857, 2.0467142857142857, 2.269857142857143, 1.7552857142857146, 1.2502857142857142, 2.770002857142857, 1.6451428571428568, 1.323, 2.253142857142857, 1.434, 2.5704300000000004, 1.8728585714285715, 2.6032871428571425, 3.1258585714285716, 2.1248571428571426, 2.471142857142857, 2.255715714285714, 2.3285714285714287, 2.1061428571428573, 1.6227142857142858, 1.5342857142857145, 2.3335714285714286, 1.5425714285714285, 2.490571428571428, 1.8511428571428572, 1.9554285714285715, 2.799002857142857, 1.8227142857142855, 1.8607142857142855, 1.0514285714285714, 1.7925714285714285, 2.196142857142857, 2.226857142857143, 2.1791428571428573, 1.3894285714285715, 1.644, 2.2914285714285714, 2.080857142857143, 1.6687142857142856, 1.5537142857142856, 2.447571428571429, 1.6561428571428574, 1.657142857142857, 1.7950000000000002, 2.8157157142857137, 2.2735714285714286, 1.0857142857142859, 1.4967142857142857, 1.8015714285714284, 1.8861428571428571, 1.8422857142857143, 3.8420028571428566, 1.6404285714285716, 1.5385714285714285, 1.8450000000000002, 1.8244285714285713, 2.957288571428571, 2.037571428571429, 1.5934285714285716, 1.9392857142857145, 2.183, 1.5524285714285715, 2.629714285714286, 1.4911428571428573, 1.3564285714285713, 1.469, 1.5532857142857142, 1.2925714285714285, 2.0180000000000002, 2.587285714285714, 2.136857142857143, 2.202285714285714, 3.039002857142857, 1.6254285714285714, 1.444857142857143, 1.5995714285714284, 1.3427142857142857, 1.7124285714285716, 2.6021457142857143, 1.7454285714285713, 2.0107142857142857, 1.8921428571428573, 1.7641428571428572, 1.1314285714285715, 1.7988571428571427, 1.7844285714285715, 1.7434285714285713, 1.7127142857142856, 1.3095714285714286, 1.5655714285714286, 1.7717142857142856, 1.730285714285714, 2.6021428571428573, 2.419858571428571, 2.498714285714286, 1.6098571428571429, 2.056857142857143, 1.9888571428571429, 1.591, 2.709142857142857, 2.3904285714285716, 1.8191428571428572, 1.5084285714285712, 1.6099999999999999, 1.826, 2.031142857142857, 1.77, 1.9225714285714286, 1.3719999999999999, 3.552431428571428, 2.4691428571428573, 1.1805714285714284, 2.085, 1.8037142857142858, 2.1442871428571424, 2.847, 1.9835714285714285, 1.7101428571428572, 1.5688571428571427, 2.112142857142857, 1.7147142857142856, 2.3240014285714286, 2.586142857142857, 2.019142857142857, 1.188142857142857, 1.6495714285714285, 1.983285714285714, 2.44443, 2.3231442857142857, 1.8838571428571427, 1.4781428571428574, 1.7064285714285714, 2.257857142857143, 1.9589999999999999, 2.8305728571428572, 2.746144285714286, 1.5724285714285717, 2.3554299999999997, 1.608285714285714, 2.191, 1.9202871428571429, 1.8065714285714285, 1.4677142857142857, 1.4321428571428572, 1.5524285714285715, 2.6517142857142852, 1.4514285714285713, 2.59843, 2.516142857142857, 2.0605714285714285, 2.149285714285714, 1.7824285714285715, 2.292715714285714, 2.4424300000000003, 1.7577142857142858, 2.7597142857142853, 1.5841428571428569, 1.1285714285714286, 1.8231428571428572, 2.052285714285714, 2.513142857142857, 1.657857142857143, 1.8205714285714285, 2.74086, 1.8552857142857142, 1.381142857142857, 2.0482857142857145, 2.652285714285714, 1.2705714285714287, 2.493572857142857, 2.7534314285714285, 1.6145714285714285, 1.7390000000000003, 1.6348571428571428, 2.6238585714285714, 1.8425714285714285, 2.9724299999999997, 2.0835714285714286, 2.0444299999999997, 1.586285714285714, 2.636572857142857, 1.4554285714285713, 2.1521428571428567, 1.9212857142857143, 1.5745714285714285, 1.8092857142857142, 2.2221442857142857, 2.100714285714286, 1.4725714285714286, 1.6392857142857142, 2.216, 2.9601442857142857, 1.4014285714285715, 1.660857142857143, 2.0788571428571427, 1.7305714285714284, 2.5567142857142855, 1.7785714285714285, 1.6737157142857144, 1.4942857142857142, 1.0684285714285715, 1.835857142857143, 1.8854285714285715, 1.0864285714285713, 1.7682842857142858, 2.2357142857142853, 1.070142857142857, 2.0548571428571427, 2.7602871428571425, 2.2438571428571423, 1.566, 1.548857142857143, 1.7168571428571426, 2.164285714285714, 1.3995714285714287, 1.2877142857142858, 2.290142857142857, 1.8324285714285715, 2.2525714285714287, 1.2332857142857143, 2.829571428571429, 1.8642857142857143, 1.2035714285714287, 1.1151428571428572, 2.275142857142857, 1.7604285714285715, 2.3747157142857143, 3.043717142857143, 1.6215714285714284, 2.0575714285714284, 1.9118571428571427, 1.7028571428571426, 2.099428571428571, 1.6265714285714288, 1.5675714285714286, 1.4492857142857145, 2.7148585714285716, 1.8277142857142858, 2.7974285714285716, 2.466428571428571, 2.177, 2.2094285714285715, 1.9348571428571428, 1.6922857142857144, 1.855, 2.1082857142857145, 1.6732857142857145, 1.7877142857142856, 2.036572857142857, 2.0374285714285714, 2.7791457142857143, 1.675, 1.5417142857142856, 2.411142857142857, 2.168287142857143, 3.0837142857142856, 1.4611428571428573, 1.9437142857142857, 1.6355714285714285, 1.9848571428571429, 1.2612857142857143, 2.343715714285714, 1.415142857142857, 2.801715714285714, 1.8254285714285712, 1.4192857142857143, 1.3982857142857144, 2.1131428571428574, 1.4590014285714286, 2.044714285714286, 1.8414285714285712, 1.6777142857142857, 2.503285714285714, 2.5301442857142855, 1.6212857142857142, 2.0675714285714286, 1.8475714285714289, 1.0775714285714286, 1.8900000000000003, 1.7447142857142859, 3.181002857142857, 1.252857142857143, 1.6137142857142859, 1.5594285714285714, 2.2464285714285714, 1.3181428571428568, 2.1221428571428573, 2.0261442857142855, 1.9498571428571427, 2.320287142857143, 1.0851428571428572, 2.682001428571428, 1.957, 1.717857142857143, 1.503714285714286, 1.5724285714285713, 2.5112857142857146, 1.757714285714286, 1.4488571428571428, 1.3894285714285715, 2.6901442857142857, 1.9949999999999999, 1.712142857142857, 2.293001428571429, 1.5462857142857145, 2.086144285714286, 1.426, 1.7590000000000001, 1.8620014285714284, 1.5985714285714285, 2.279572857142857, 2.225857142857143, 1.131714285714286, 1.3528571428571428, 1.7029999999999998, 2.5, 1.649285714285714, 2.373285714285714, 2.3355714285714284, 1.6564285714285716, 1.9901428571428572, 1.157857142857143, 1.1485714285714284, 2.7979999999999996, 2.280002857142857, 3.0464299999999995, 1.771285714285714, 2.43343, 2.6175728571428567, 2.783287142857143, 2.642571428571429, 1.1968571428571428, 2.9038571428571425, 1.6837142857142857, 1.2635714285714286, 1.938572857142857, 1.2332857142857143, 1.7247142857142859, 1.3562857142857143, 2.157, 2.1652857142857145, 1.5299999999999998, 1.5577142857142856, 1.9904285714285714, 2.1448571428571426, 1.6184285714285715, 2.3165714285714287, 2.234, 1.8357142857142856, 1.532857142857143, 3.420144285714286, 1.4567142857142856, 1.7137142857142857, 1.9747142857142859, 2.306002857142857, 2.146142857142857, 2.0268571428571427, 2.778572857142857, 1.6282857142857143, 1.7815714285714286, 1.8845714285714286, 3.055287142857143, 1.7997142857142856, 2.4348585714285713, 2.3545714285714285, 2.5754300000000003, 1.539, 1.4914285714285713, 1.464142857142857, 2.0480000000000005, 2.5392857142857146, 1.5157142857142856, 2.3805714285714283, 1.8197142857142856, 1.5994285714285714, 1.5675714285714284, 1.5579999999999998, 2.2444285714285717, 0.7935714285714285, 2.0172857142857143, 2.007857142857143, 2.373, 1.1835714285714285, 2.5160014285714287, 1.8198571428571426, 2.51443, 1.6917142857142857, 1.6544285714285714, 2.310142857142857, 2.052, 1.857, 2.2177157142857142, 2.0207142857142855, 1.7552857142857141, 1.8857142857142857, 2.420142857142857, 1.0861428571428573, 2.229142857142857, 1.3740000000000003, 2.324857142857143, 1.3667142857142858, 1.748, 1.7449999999999999, 1.2711428571428571, 2.458572857142857, 2.471142857142857, 1.855, 4.675007142857142, 1.5510000000000002, 2.6958571428571427, 1.6334285714285717, 2.244571428571428, 1.8201428571428568, 2.8670000000000004, 2.067142857142857, 1.8127142857142857, 2.26143, 2.200142857142857, 1.8322857142857143, 1.9747142857142859, 1.541857142857143, 2.160285714285714, 1.4671428571428573, 2.698571428571428, 1.8735728571428572, 1.5392857142857141, 2.0462857142857143, 2.270142857142857, 1.598857142857143, 2.289285714285714, 1.553857142857143, 1.6002857142857145, 1.9297142857142855, 1.7482871428571427, 1.8517142857142856, 2.240285714285714, 1.8137142857142856, 2.3007142857142857, 1.7268571428571424, 2.079144285714286, 2.1114285714285717, 2.2208571428571426, 2.6117157142857144, 2.9974314285714283, 2.5100000000000002, 1.8034285714285712, 1.7805714285714287, 2.3042871428571425, 2.0794285714285716, 2.321002857142857, 1.6188571428571428, 1.624285714285714, 1.9441428571428572, 2.467142857142857, 1.1877142857142857, 1.6304285714285716, 2.372428571428571, 2.663715714285714, 1.6544285714285714, 3.0120014285714283, 1.9120000000000001, 2.040142857142857, 1.7041428571428572, 2.246571428571429, 2.9117157142857146, 1.6857142857142855, 1.6842857142857142, 2.691144285714286, 1.8840000000000001, 1.4417142857142857, 1.4927142857142854, 1.9164285714285714, 1.5297142857142858, 1.7465714285714284, 2.164142857142857, 1.8002857142857143, 1.5377142857142858, 1.3234285714285714, 1.6911428571428573, 3.2257157142857147, 1.6415714285714285, 1.8745714285714283, 2.145, 2.244571428571428, 2.6954314285714287, 2.077714285714286, 2.190571428571429, 2.007142857142857, 1.3541428571428573, 2.5121442857142857, 2.078, 2.4571428571428577, 1.6754285714285717, 2.48, 1.9371428571428573, 2.1464285714285714, 2.5234285714285716, 2.739285714285714, 1.326142857142857, 2.718, 2.6875714285714283, 3.1394314285714287, 2.121285714285714, 2.124285714285714, 1.387142857142857, 3.432287142857142, 2.016, 2.541001428571429, 1.8437142857142859, 3.0008585714285716, 2.072858571428571, 1.9198571428571434, 1.8792871428571427, 2.1878571428571427, 2.0225714285714287, 2.7710014285714286, 1.8552857142857142, 1.451857142857143, 2.097714285714286, 3.640005714285714, 2.719142857142857, 2.2781428571428575, 1.6925714285714284, 2.8340014285714283, 1.3437142857142856, 2.598144285714286, 2.3088571428571427, 2.0189999999999997, 1.8208571428571427, 1.8085714285714285, 1.9680000000000002, 2.0790014285714284, 2.0121428571428575, 3.400145714285714, 1.855857142857143, 1.7121428571428574, 1.5925714285714285, 2.3161428571428573, 2.1954299999999995, 1.6931428571428568, 2.0132857142857143, 2.52243, 2.3794285714285714, 1.9022871428571426, 2.8521442857142856, 1.776142857142857, 2.066142857142857, 1.9164285714285714, 1.795857142857143, 1.8697142857142857, 2.684001428571428, 2.6409999999999996, 1.952142857142857, 2.051, 1.1842857142857144, 2.6218600000000003, 2.5977142857142854, 1.6231428571428572, 1.927857142857143, 1.8475714285714286, 1.496, 2.1408571428571426, 1.7692857142857144, 1.3607142857142858, 1.9291428571428573, 2.6205714285714286, 1.864142857142857, 1.782, 2.1315714285714287, 1.1681428571428571, 1.641, 1.8778571428571431, 1.5162857142857145, 1.5145714285714287, 2.1675714285714287, 1.7328571428571429, 1.639, 1.5932857142857144, 2.1559999999999997, 1.608142857142857, 1.209857142857143, 1.9581428571428572, 1.9895714285714285, 2.182, 1.6545714285714284, 1.4337142857142857, 1.4728571428571426, 3.5441457142857145, 2.6555714285714282, 1.486, 1.3088571428571427, 2.5187142857142857, 2.2087142857142856, 1.5028571428571431, 1.4921428571428572, 2.774572857142857, 1.3962857142857144, 1.267, 1.0532857142857142, 1.446, 0.9204285714285714, 1.383428571428571, 1.4629999999999999, 2.7912857142857144, 2.663, 2.3461442857142853, 1.1744285714285714, 2.792001428571428, 1.7648571428571427, 2.422571428571428, 2.9722857142857144, 2.8711442857142857, 1.7814285714285714, 1.6988571428571428, 0.9918571428571428, 3.7855728571428573, 2.349142857142857, 2.8018585714285718, 1.7245714285714282, 2.1644285714285716, 2.8138585714285713, 2.0342857142857147, 1.584285714285714, 2.399857142857143, 2.049857142857143, 2.7618585714285713, 1.439857142857143, 2.8640014285714277, 1.1485714285714288, 2.3245728571428574, 1.6769999999999998, 1.5185714285714285, 2.4142857142857146, 2.7641442857142855, 1.5185714285714287, 1.5080000000000002, 1.7232857142857143, 1.8102857142857143, 1.2714285714285716, 2.4785728571428574, 2.0887142857142855, 2.395, 2.257144285714286, 1.657857142857143, 2.0987142857142858, 2.240571428571428, 1.797142857142857, 1.3685714285714285, 2.0867142857142857, 2.185857142857143, 1.6745714285714286, 1.3135714285714286, 1.8509999999999998, 2.37643, 2.537857142857143, 2.0105714285714287, 1.4114285714285715, 2.8695742857142856, 2.829717142857142, 1.975, 2.352, 2.58143, 1.848857142857143, 2.572142857142857, 2.081857142857143, 1.9960000000000002, 3.655575714285714, 2.1625714285714284, 1.7058571428571432, 1.1695714285714285, 1.9224285714285714, 1.6762857142857144, 1.2055714285714285, 2.2792857142857144, 2.177, 2.5537157142857145, 1.6501428571428571, 1.9577142857142857, 2.3925714285714283, 1.9079999999999997, 1.813857142857143, 1.5657142857142858, 1.4882857142857142, 2.4680014285714287, 2.025857142857143, 1.477714285714286, 2.5378571428571424, 2.2668585714285716, 1.9314285714285717, 1.561857142857143, 1.4097142857142855, 1.5195714285714286, 2.2941428571428575, 2.0827142857142857, 1.0868571428571427, 1.884714285714286, 1.8078571428571428, 2.34343, 2.3987142857142856, 1.1400000000000001, 2.5811442857142852, 2.3000000000000003, 1.977857142857143, 1.9187142857142858, 1.6001428571428573, 2.001, 2.4801442857142857, 1.8002857142857143, 1.7178557142857145, 1.500714285714286, 1.8882857142857143, 2.0764285714285715, 3.5338614285714285, 2.21, 2.3340014285714283, 2.214857142857143, 2.22143, 2.8225728571428568, 1.5522857142857143, 1.2262857142857142, 2.313, 2.1612857142857145, 2.226142857142857, 1.7488571428571429, 1.973857142857143, 1.888857142857143, 3.015144285714286, 2.0479999999999996, 1.7221428571428572, 1.9605714285714289, 1.9539999999999995, 2.906431428571428, 1.6318571428571431, 2.4982871428571434, 3.0172885714285718, 2.9411428571428573, 1.133142857142857, 2.319142857142857, 2.064142857142857, 3.079145714285714, 1.7584285714285712, 1.8492857142857144, 2.4754285714285715, 1.7811428571428571, 2.328714285714286, 2.311571428571429, 1.4654285714285713, 2.0127142857142855, 2.2288585714285714, 1.7977142857142856, 1.8967142857142854, 1.355, 1.9638585714285715, 1.747, 1.526, 2.0144285714285717, 1.407, 1.832857142857143, 2.5229999999999997, 1.6099999999999997, 2.3502857142857145, 1.814142857142857, 2.0982857142857143, 2.1620014285714286, 2.0285714285714285, 3.584717142857143, 2.161858571428571, 3.3872871428571427, 1.9781442857142857, 2.353, 1.5322857142857143, 1.868285714285714, 2.448572857142857, 2.4702857142857146, 1.9307142857142858, 2.165428571428571, 1.8019999999999998, 1.6877142857142857, 1.6011428571428572, 2.061428571428571, 2.9268585714285718, 1.4635714285714287, 1.914142857142857, 1.7815714285714284, 2.5907157142857145, 1.6544285714285714, 2.2644285714285717, 2.115287142857143, 1.9127142857142856, 1.9124285714285716, 1.1197142857142859, 1.4787142857142859, 1.7260000000000002, 2.1721428571428567, 1.8634285714285712, 1.4855714285714288, 1.131, 1.9344285714285712, 1.5618571428571428, 2.206142857142857, 1.9155714285714287, 1.9884285714285714, 2.205144285714286, 1.9155714285714287, 2.4672857142857145, 3.0627157142857135, 2.032571428571429, 2.058572857142857, 2.1965714285714286, 2.2760000000000002, 1.7120000000000002, 1.821, 2.187, 1.7165714285714289, 2.3212857142857146, 1.759, 1.7938571428571428, 1.9387142857142856, 2.3754285714285714, 1.9448571428571426, 1.8735714285714287, 1.3725714285714286, 1.608, 1.6244285714285716, 1.3848571428571428, 2.519142857142857, 2.335715714285714, 1.1305714285714286, 1.9251428571428573, 2.2211428571428575, 1.6299999999999997, 1.8981428571428576, 2.203, 1.9205714285714284, 2.4202857142857144, 2.1755714285714287, 0.9565714285714285, 2.202714285714286, 1.5510000000000002, 1.8845714285714283, 3.4475742857142855, 2.0547142857142857, 1.102285714285714, 1.2381428571428572, 1.555, 1.2739999999999998, 2.757571428571428, 2.1478571428571427, 2.6607157142857143, 1.9722857142857144, 1.7725714285714285, 2.6125714285714285, 2.080857142857143, 2.7677142857142853, 2.6420014285714286, 2.857142857142857, 1.496, 1.861, 2.8278571428571433, 2.001142857142857, 1.5124285714285715, 2.3625728571428573, 1.9941442857142857, 1.048142857142857, 1.48, 1.4725714285714286, 2.3804285714285713, 1.7035714285714287, 1.0674285714285712, 2.286, 1.855142857142857, 0.9927142857142857, 3.716147142857143, 2.2064285714285714, 2.3287142857142853, 1.792142857142857, 1.8728571428571428, 1.6344285714285713, 2.4860014285714285, 1.3944285714285714, 3.18343, 1.8068571428571427, 1.4205714285714286, 3.174001428571428, 1.6115714285714287, 1.9814285714285713, 2.371571428571429, 1.2282857142857144, 1.8497142857142859, 2.0971428571428574, 2.4930014285714286, 2.3615742857142856, 2.4405714285714284, 1.9048571428571426, 2.665857142857143, 2.8194285714285714, 2.2585714285714285, 2.0435714285714286, 1.7857142857142858, 1.604714285714286, 1.6748571428571428, 2.346142857142857, 2.041142857142857, 2.684142857142857, 2.599857142857143, 1.987714285714286, 1.6771428571428573, 2.350144285714286, 1.5061428571428572, 2.7265714285714284, 1.6402857142857141, 1.9075714285714285, 2.4812871428571426, 2.6082857142857145, 2.1371428571428575, 2.3748571428571426, 1.7342857142857144, 1.3735714285714287, 1.4737142857142855, 2.2541442857142857, 1.9674285714285715, 3.2634328571428566, 1.7951428571428567, 1.7985714285714285, 2.1, 2.3830014285714287, 2.7017142857142855, 2.222142857142857, 2.005857142857143, 2.1597142857142857, 1.7244285714285712, 2.1784285714285714, 3.2427157142857146, 2.045572857142857, 1.2922857142857143, 2.4755714285714285, 1.7831428571428571, 3.58243, 1.530285714285714, 1.827142857142857, 1.965142857142857, 1.8170000000000002, 1.802, 1.878, 2.021, 1.6565714285714286, 1.5852857142857144, 3.438717142857143, 2.1804285714285716, 2.2008571428571426, 1.837, 2.4041428571428574, 1.9380000000000002, 1.4824285714285712, 1.6258571428571427, 1.710285714285714, 3.60386, 1.9835714285714285, 2.238285714285714, 1.8942857142857144, 2.6314285714285717, 1.733857142857143, 2.469572857142857, 2.3704285714285716, 1.6307142857142856, 1.936857142857143, 1.3661428571428569, 2.4059999999999997, 2.3161428571428573, 1.8407142857142857, 2.455287142857143, 2.0997142857142856, 1.7654285714285716, 1.457, 2.0352857142857146, 1.929, 1.3287142857142857, 2.008857142857143, 2.3830014285714283, 1.3534285714285712, 2.470715714285714, 1.6147142857142855, 2.5544285714285713, 2.165, 2.1670000000000003, 2.492857142857143, 2.5970014285714282, 2.2645742857142857, 1.8361428571428573, 1.493714285714286, 1.2678571428571428, 1.7855714285714284, 1.9382857142857142, 1.708714285714286, 1.8065714285714287, 1.3672857142857144, 1.4877142857142858, 1.6852857142857143, 1.4571428571428573, 2.556285714285714, 2.1085714285714285, 1.6039999999999996, 1.2907142857142857, 1.3425714285714285, 2.2114285714285713, 1.5617142857142858, 1.8922871428571428, 2.029142857142857, 1.6558571428571427, 2.0105714285714287, 2.2887142857142857, 1.5715714285714284, 1.8118585714285715, 2.15, 2.5518571428571426, 2.1598571428571427, 1.5301428571428572, 1.6084285714285715, 1.8465714285714285, 2.9764285714285714, 1.4181428571428571, 1.788142857142857, 2.201, 2.676428571428572, 1.7745714285714287, 2.453285714285714, 1.6155714285714287, 2.2030014285714286, 2.719287142857142, 0.9497142857142856, 1.380857142857143, 1.9377142857142857, 1.4497142857142857, 1.564, 2.879714285714286, 1.2815714285714286, 2.3668585714285717, 2.05543, 2.557858571428571, 2.2578585714285713, 2.3272871428571427, 2.1661428571428574, 2.4070014285714287, 1.4405714285714286, 1.9515714285714285, 1.9600000000000002, 1.926857142857143, 1.6825714285714284, 2.115142857142857, 2.5020014285714285, 2.378, 1.4368571428571428, 2.205144285714286, 1.8601428571428573, 1.3668571428571428, 1.819285714285714, 1.7927142857142857, 1.7274285714285715, 2.4642871428571427, 1.8522871428571428, 2.3314285714285714, 1.6594285714285715, 2.7784299999999997, 2.7082857142857146, 2.067285714285714, 2.1265714285714283, 2.23343, 1.041, 2.6088585714285712, 1.9361442857142859, 2.7715714285714284, 1.8584285714285718, 2.2750014285714286, 2.0928571428571425, 2.025715714285714, 1.5114285714285711, 2.2328571428571427, 3.2664299999999997, 1.2015714285714285, 1.8804285714285716, 1.7261428571428572, 1.856287142857143, 1.9888571428571429, 2.695, 1.887142857142857, 2.346, 3.8248599999999997, 2.057, 1.3892857142857142, 1.9028571428571432, 1.647714285714286, 1.805142857142857, 1.9598571428571427, 1.4822857142857142, 2.715717142857143, 1.6247142857142858, 1.9758585714285715, 2.5101442857142855, 0.8585714285714285, 1.4377142857142857, 2.4671428571428575, 3.3341442857142853, 1.4308571428571428, 2.6078585714285714, 2.5318585714285717, 2.525857142857143, 2.037142857142857, 2.1117142857142857, 2.152142857142857, 1.77, 1.6698571428571427, 1.6027142857142855, 1.9372857142857143, 1.521857142857143, 1.9808571428571429, 2.158571428571429, 2.5625714285714287, 1.9944285714285712, 2.4149999999999996, 1.5025714285714284, 1.787857142857143, 2.054, 1.9675714285714285, 1.6921428571428574, 2.2079999999999997, 2.1227142857142858, 2.024714285714286, 1.875857142857143, 3.167144285714286, 1.9400000000000002, 1.6671428571428568, 2.174857142857143, 1.8510000000000002, 2.055, 1.7594285714285716, 3.0334314285714283, 2.96743, 2.0261428571428572, 1.7225714285714286, 1.6555714285714285, 2.086714285714286, 1.4268571428571428, 2.9271442857142853, 2.0237142857142856, 2.1294314285714284, 2.5974299999999997, 2.0101428571428572, 2.186, 2.524714285714286, 2.3449999999999998, 1.927287142857143, 1.774142857142857, 1.8635714285714282, 1.5294285714285714, 2.6462871428571435, 1.4034285714285715, 1.3402857142857143, 3.0821442857142856, 1.647857142857143, 2.637572857142857, 2.4272871428571428, 1.9901428571428572, 1.621142857142857, 1.4977142857142858, 2.4418585714285714, 3.5648585714285708, 2.126285714285714, 2.2884285714285717, 2.222142857142857, 1.5141428571428572, 2.283857142857143, 2.174142857142857, 2.781714285714286, 2.0805714285714285, 2.608, 1.495285714285714, 2.1277142857142857, 2.032285714285714, 2.101, 2.8314314285714284, 2.2777142857142856, 1.4355714285714285, 1.9614285714285715, 2.3662857142857137, 2.387574285714286, 1.445142857142857, 1.9681428571428572, 2.2742857142857145, 1.8697142857142859, 2.565857142857143, 2.0584285714285717, 1.538, 2.6587157142857145, 1.9524285714285714, 2.178857142857143, 2.081285714285714, 1.8508571428571428, 2.2817142857142856, 1.6845714285714286, 2.3695714285714287, 1.923142857142857, 3.0090000000000003, 1.2728571428571427, 3.0171428571428573, 2.176428571428572, 2.281285714285714, 1.7054285714285713, 1.998285714285714, 1.3519999999999999, 2.552, 2.1844285714285716, 2.179572857142857, 1.7732857142857144, 2.1879999999999997, 1.662857142857143, 1.3877142857142857, 1.3862857142857141, 1.5047142857142857, 2.140287142857143, 1.9377142857142857, 1.8767142857142856, 1.5832857142857146, 2.1625714285714284, 1.8172857142857144, 2.593, 2.0597157142857143, 1.7155714285714285, 1.9278571428571427, 1.6377142857142855, 1.5267142857142857, 1.6565714285714286, 1.4865714285714287, 1.6555714285714287, 1.759857142857143, 2.0364285714285715, 1.7831428571428571, 1.5448571428571432, 2.6127142857142855, 1.5257142857142856, 3.1662857142857144, 1.8375714285714284, 1.9318571428571427, 1.824857142857143, 1.8225714285714285, 2.222572857142857, 1.930142857142857, 1.705142857142857, 1.7182857142857144, 2.3608571428571428, 2.3187157142857138, 1.6222857142857143, 1.6594285714285715, 1.3867142857142858, 1.4269999999999998, 2.331572857142857, 2.760144285714286, 1.5114285714285713, 1.4275714285714287, 1.298857142857143, 2.1119999999999997, 1.597, 1.6657142857142855, 1.628142857142857, 2.390285714285714, 1.6001428571428569, 2.6587157142857145, 1.78, 2.1635714285714287, 1.7905714285714287, 2.141428571428571, 2.178, 2.567144285714285, 1.528, 2.4521428571428574, 2.0282857142857145, 1.7054285714285715, 1.4545714285714288, 1.708142857142857, 1.8018571428571428, 2.3244299999999996, 1.6167142857142858, 1.8982857142857144, 1.3942857142857144, 2.8298585714285713, 2.607142857142857, 2.695001428571429, 1.296857142857143, 2.417142857142857, 3.5108614285714284, 1.9507142857142856, 1.7395714285714288, 1.8707142857142858, 1.6391428571428572, 1.3005714285714287, 3.534717142857143, 2.0542857142857143, 1.7412857142857143, 1.594142857142857, 1.9638571428571427, 2.565001428571428, 2.1865714285714284, 3.2987171428571425, 3.2684314285714287, 2.0701428571428573, 2.1399999999999997, 1.4252857142857143, 1.936142857142857, 1.324142857142857, 1.3538571428571429, 2.0454285714285714, 2.0838571428571426, 1.4601428571428572, 2.826285714285714, 2.0804300000000002, 2.5597142857142856, 2.2077142857142857, 1.9630000000000003, 3.201145714285714, 2.412142857142857, 1.949857142857143, 2.0548571428571427, 1.6022857142857145, 2.0588571428571427, 1.6515714285714285, 2.449144285714286, 2.1798585714285714, 1.7671428571428571, 1.5124285714285717, 1.4631428571428573, 3.191717142857143, 2.1915728571428574, 1.4925714285714287, 2.4995714285714286, 2.0042857142857144, 3.4120028571428564, 1.446, 2.3737142857142857, 2.2594285714285713, 1.5602857142857143, 2.2472857142857143, 1.4864285714285717, 1.5579999999999998, 2.3695714285714287, 2.192285714285714, 2.5998571428571426, 2.3435728571428567, 1.9061428571428571, 1.9754285714285713, 2.078285714285714, 1.4004285714285716, 1.488, 1.5390000000000001, 2.267, 2.351285714285715, 1.9107142857142858, 2.4054285714285717, 1.5431428571428574, 2.286714285714286, 1.7961428571428573, 1.147, 1.9014285714285715, 1.8964285714285716, 2.053, 3.0622857142857143, 1.8538571428571426, 1.5969999999999998, 1.1064285714285715, 2.092714285714286, 2.3232857142857144, 2.210714285714286, 1.5547142857142855, 2.4262871428571424, 1.6725714285714286, 2.2375728571428573, 1.7728571428571427, 2.087428571428571, 1.9684285714285714, 2.0130000000000003, 1.7972857142857142, 1.6980000000000002, 1.8608571428571428, 1.810142857142857, 2.14, 1.4875714285714285, 2.0144285714285717, 2.1217142857142854, 1.5784285714285715, 1.8658571428571429, 1.8378571428571429, 2.0441428571428575, 1.9257142857142857, 2.556715714285714, 1.3962857142857141, 1.2027142857142858, 2.991287142857143, 1.6697142857142855, 1.5595714285714286, 1.7792857142857141, 1.8457142857142856, 1.4095714285714285, 1.7897142857142856, 1.0971428571428572, 1.999285714285714, 2.1485714285714286, 2.029714285714286, 2.347142857142857, 1.9182857142857144, 1.9537142857142855, 2.5935714285714284, 1.7922857142857145, 1.9462857142857144, 2.492428571428572, 2.2718585714285715, 1.4768571428571426, 2.1814285714285715, 1.6571428571428573, 2.0, 1.6077142857142859, 2.4004285714285714, 1.8890014285714283, 2.1237157142857144, 2.604, 2.4815714285714288, 1.9721428571428574, 1.7027142857142856, 3.158144285714286, 1.8874285714285712, 1.8097142857142858, 1.598857142857143, 1.282, 1.9410014285714285, 1.5751428571428572, 2.3847157142857145, 1.541, 2.2295714285714285, 1.5122857142857142, 1.7624285714285715, 1.7572857142857143, 2.3891428571428577, 2.363715714285714, 1.4945714285714284, 2.7968571428571427, 2.137571428571428, 2.314428571428571, 1.4529999999999998, 1.8461428571428573, 2.7199999999999998, 1.8947142857142858, 1.7357142857142858, 2.1845714285714286, 3.08786, 2.3090000000000006, 1.7004285714285712, 1.6514285714285715, 2.610287142857143, 3.539715714285714, 2.8017157142857134, 1.97643, 1.6635714285714285, 2.6795728571428574, 1.9335714285714285, 2.1805728571428573, 1.7381428571428572, 2.215857142857143, 2.0848585714285712, 1.4262857142857144, 1.3491428571428572, 3.21843, 2.2575714285714286, 1.8959999999999997, 1.799, 2.3325714285714283, 1.863, 1.6067142857142858, 2.1437142857142857, 1.9155714285714285, 2.326857142857143, 3.42043, 1.8184285714285713, 1.7069999999999996, 1.5942857142857143, 2.1877142857142857, 2.572715714285714, 1.6284285714285716, 1.9765714285714286, 1.7485714285714287, 2.478285714285714, 1.489285714285714, 1.8718571428571429, 1.5370000000000001, 3.1398599999999997, 3.682715714285714, 1.9432857142857145, 2.4688585714285716, 2.0981428571428573, 1.8502857142857143, 2.0850000000000004, 2.783285714285714, 2.449857142857143, 1.8585714285714285, 2.0750014285714284, 1.660857142857143, 2.8881442857142856, 2.582287142857143, 2.3888571428571432, 1.7434285714285713, 1.6735714285714285, 0.965857142857143, 2.3877142857142855, 2.4465728571428573, 1.5495714285714288, 1.545857142857143, 1.1448571428571428, 2.3771428571428572, 2.37443, 1.477285714285714, 2.831574285714286, 1.3225714285714287, 1.8412857142857144, 2.361571428571429, 2.112144285714286, 2.1188571428571428, 2.3444285714285713, 2.0455714285714284, 1.6038571428571429, 2.2547142857142854, 2.2091428571428575, 2.580144285714286, 1.7504285714285714, 1.6654300000000002, 3.2627185714285716, 2.4598585714285712, 2.2538571428571426, 2.5374285714285714, 3.0014299999999996, 1.8827142857142858, 1.979714285714286, 2.2461442857142857, 1.7859999999999998, 2.4981428571428568, 1.8662857142857143, 2.4295714285714287, 1.5818571428571429, 2.7032857142857147, 1.2381428571428574, 2.406287142857143, 1.8705714285714286, 1.9855714285714285, 3.124144285714286, 1.4237142857142857, 2.125572857142857, 2.3425714285714285, 2.007857142857143, 2.111428571428571, 2.0877142857142856, 1.5092857142857141, 2.26543, 1.3282857142857143, 1.8797142857142857, 1.6127142857142858, 2.4950000000000006, 2.317285714285714, 1.454, 2.664, 2.96243, 3.0704300000000004, 2.42143, 1.836857142857143, 4.183718571428572, 1.845, 2.145857142857143, 2.12243, 1.7311428571428569, 1.6597142857142857, 2.197142857142857, 1.8021428571428568, 2.332142857142857, 2.0348571428571427, 3.187145714285714, 1.508571428571429, 1.3247142857142857, 1.7032857142857145, 2.2582857142857145, 1.8170000000000002, 2.0875714285714286, 2.387574285714286, 2.205, 2.3640000000000003, 2.221142857142857, 2.0354285714285716, 1.7495714285714286, 2.001857142857143, 1.5524285714285715, 2.0945714285714283, 1.9822857142857142, 1.2577142857142858, 2.3265728571428568, 1.1534285714285715, 2.3064285714285715, 2.440287142857143, 1.5751428571428574, 1.8411428571428572, 2.5372857142857144, 1.6354285714285715, 2.655144285714286, 1.5791442857142857, 1.705142857142857, 2.6454285714285715, 1.3134285714285714, 2.525857142857143, 1.7102857142857144, 1.7824285714285713, 2.3988585714285717, 1.4644285714285716, 1.9075714285714283, 1.8864285714285718, 1.8921428571428573, 2.035, 2.310714285714286, 1.9581428571428572, 2.1987142857142854, 1.9935742857142855, 1.3805714285714286, 2.929714285714286, 1.7587142857142857, 1.9831442857142856, 1.9820000000000004, 1.7264285714285712, 1.866, 2.6362857142857146, 1.317142857142857, 2.0382857142857143, 1.8065714285714287, 1.9961442857142855, 1.3058571428571428, 2.257142857142857, 1.6859999999999997, 1.0165714285714287, 2.108714285714286, 3.2375728571428577, 2.5481442857142858, 1.993, 1.663, 2.077714285714286, 1.8952857142857142, 2.372, 2.056857142857143, 1.119142857142857, 2.2224285714285714, 2.1222857142857143, 1.616857142857143, 1.579857142857143, 1.9722857142857142, 2.4285714285714284, 1.4167142857142856, 1.855285714285714, 2.3590014285714282, 1.6075714285714289, 1.4640000000000002, 2.1755714285714287, 1.7298571428571428, 2.084857142857143, 0.9204285714285714, 1.5761428571428573, 1.8771428571428572, 1.9147142857142856, 2.422571428571428, 1.526714285714286, 1.696142857142857, 2.2108585714285716, 2.1107142857142858, 2.065285714285714, 1.3402857142857145, 1.657142857142857, 1.3695714285714284, 1.294857142857143, 1.6795714285714287, 1.6227142857142858, 2.153857142857143, 1.4801428571428572, 1.8244285714285715, 1.2047142857142856, 1.5529999999999997, 2.4059999999999997, 2.051142857142857, 1.9652857142857145, 2.033857142857143, 1.7264285714285712, 2.346285714285714, 1.5524285714285713, 3.0558599999999996, 1.5115714285714286, 2.2190000000000003, 1.5445714285714287, 2.1392857142857142, 2.632144285714286, 2.1957142857142857, 2.2524285714285712, 1.9965714285714284, 2.242857142857143, 1.4517142857142857, 2.1637157142857144, 1.9952857142857143, 1.4662857142857142, 2.612714285714286, 3.1834314285714287, 1.34, 1.2982857142857143, 1.3179999999999998, 1.9162857142857146, 2.0212857142857144, 2.204857142857143, 3.0684299999999998, 1.9302857142857144, 1.877, 2.1645714285714286, 2.367857142857143, 1.9211428571428573, 1.5308571428571427, 1.6345714285714286, 2.2177142857142855, 1.5622857142857143, 1.727142857142857, 2.044857142857143, 2.1605714285714286, 2.1175714285714284, 0.9981428571428571, 1.3425714285714285, 1.9085714285714286, 1.7182857142857144, 2.24043, 1.2497142857142856, 1.8471428571428572, 1.6651428571428573, 1.2217142857142858, 1.8575714285714287, 1.9077142857142857, 1.548, 1.8137142857142858, 2.482714285714285, 1.6878571428571427, 3.170285714285714, 3.1732871428571423, 1.2302857142857142, 1.3818571428571431, 2.2588571428571425, 1.9137142857142855, 1.9574285714285715, 2.2004285714285716, 1.7650000000000003, 1.9894285714285715, 2.2511442857142856, 1.9791442857142858, 1.0975714285714286, 1.3895714285714287, 2.1550014285714285, 1.862, 1.1649999999999998, 1.5154285714285718, 2.1677142857142857, 1.392, 2.6341442857142856, 2.2728585714285714, 2.025572857142857, 2.62543, 1.6652857142857143, 1.5127142857142855, 2.1901442857142857, 2.4170000000000003, 1.8451428571428572, 1.3281428571428573, 1.9851428571428573, 1.4647142857142854, 1.7738585714285713, 1.2874285714285716, 3.1790014285714285, 1.6532857142857142, 1.7397142857142855, 1.2281428571428574, 1.7465714285714284, 1.6020000000000003, 1.4735714285714283, 1.8114285714285714, 1.718, 1.3598571428571429, 1.7237142857142855, 1.702857142857143, 1.6001428571428573, 1.760857142857143, 1.1254285714285717, 1.9277142857142857, 2.3482857142857143, 1.8594285714285714, 2.2361428571428577, 1.730285714285714, 1.5814285714285714, 2.025571428571429, 2.063142857142857, 2.1398571428571427, 2.64343, 1.1929999999999998, 2.268287142857143, 1.3955714285714287, 1.6157142857142854, 2.0584285714285713, 2.5067157142857144, 1.9165714285714288, 2.1318571428571427, 1.7054285714285715, 3.4282871428571426, 1.9075714285714287, 1.401, 2.6114285714285717, 2.101714285714286, 1.5465714285714287, 1.9850014285714288, 1.8825714285714288, 2.1045714285714285, 2.043857142857143, 2.3174285714285716, 1.9218571428571427, 1.8632857142857142, 2.011, 2.1367142857142856, 2.6084285714285715, 1.3840000000000001, 1.6562857142857144, 1.8178571428571426, 2.1527142857142856, 2.007285714285714, 1.788857142857143, 2.963001428571428, 2.22843, 1.7445714285714284, 2.7351442857142856, 1.7228571428571426, 2.6144285714285718, 1.6795714285714287, 2.2632857142857143, 2.822002857142857, 2.099285714285714, 1.2335714285714285, 2.302, 2.278857142857143, 3.3601428571428573, 3.1662857142857144, 2.0197157142857143, 1.4504285714285714, 3.09343, 2.186572857142857, 1.8024285714285713, 1.5060000000000002, 1.7512857142857143, 1.892, 2.0940000000000003, 3.7495742857142855, 2.4310014285714283, 2.704857142857143, 1.873572857142857, 1.7004285714285714, 1.6800000000000002, 2.37743, 1.4681428571428572, 2.507857142857143, 2.088285714285714, 1.695, 2.748285714285714, 1.6728571428571428, 2.5367142857142855, 1.7552857142857141, 1.413285714285714, 1.2854285714285716, 2.1635714285714287, 2.1337157142857146, 3.214431428571429, 2.225428571428571, 2.3614285714285717, 2.7952857142857144, 1.623, 2.1185714285714288, 1.8924285714285716, 1.6234285714285714, 1.8375714285714284, 1.654, 1.9012857142857145, 2.13443, 1.8692857142857144, 1.5707142857142855, 2.049857142857143, 1.5654285714285714, 1.645, 1.6055714285714286, 1.7264285714285716, 1.8397142857142856, 2.1085714285714285, 1.351857142857143, 2.7644285714285712, 1.9338571428571427, 1.4057142857142857, 1.6515714285714285, 2.4078585714285716, 2.1595714285714283, 1.7192857142857143, 2.9918585714285717, 0.9965714285714286, 1.763142857142857, 1.8578571428571427, 1.865572857142857, 2.2127142857142856, 1.2321428571428572, 1.4148571428571428, 2.1857142857142855, 1.3281428571428573, 1.9584285714285714, 1.97, 1.3748571428571428, 1.5512871428571429, 1.3125714285714285, 2.2962857142857147, 2.231857142857143, 1.6168571428571428, 2.2350000000000003, 2.3087157142857144, 1.7514285714285711, 1.0805714285714285, 1.836, 1.9767142857142854, 3.276858571428572, 1.967142857142857, 2.188285714285714, 1.8258571428571426, 2.546002857142857, 1.635142857142857, 2.1185714285714283, 1.7665714285714287, 1.820714285714286, 2.7620014285714283, 2.2118571428571427, 2.0854285714285714, 2.1527157142857143, 1.9215714285714287, 2.105285714285714, 2.282285714285714, 2.078, 2.0885714285714285, 2.3180014285714283, 1.5448571428571427, 1.9027142857142856, 1.8594285714285717, 1.9092857142857143, 1.832857142857143, 1.7041428571428572, 1.8354285714285712, 2.3234285714285714, 1.9900000000000002, 1.548142857142857, 2.2034285714285717, 1.752, 2.5220014285714285, 2.096144285714286, 1.4335714285714285, 1.9281428571428574, 1.6841428571428572, 1.5057142857142858, 1.8085714285714283, 1.9968571428571429, 2.4335714285714287, 2.103, 1.9770000000000003, 1.541, 1.9377142857142857, 1.5758571428571428, 1.497857142857143, 2.774714285714286, 2.361857142857143, 1.4807142857142854, 1.6445714285714284, 2.6191442857142855, 1.635142857142857, 1.8867142857142856, 1.8977142857142855, 1.9067142857142858, 1.8612871428571427, 1.875142857142857, 1.6281428571428571, 1.8708585714285717, 1.5865714285714285, 1.905, 2.319714285714286, 2.4895714285714283, 1.7684285714285715, 2.4304285714285716, 2.1051428571428565, 1.6375714285714285, 3.4878614285714282, 2.446857142857143, 2.1895714285714285, 1.874142857142857, 2.7782871428571427, 1.7354299999999998, 1.4540000000000002, 2.0637142857142856, 2.271857142857143, 2.001142857142857, 1.308142857142857, 1.1208571428571428, 1.3438571428571429, 2.2040014285714284, 2.7972885714285716, 1.8820000000000001, 1.3634285714285714, 1.954, 1.8162857142857143, 2.9601442857142857, 1.991714285714286, 2.436857142857143, 1.8285714285714287, 2.372572857142857, 1.483, 2.7199999999999998, 1.6705714285714284, 2.434287142857143, 1.6447128571428575, 2.334142857142857, 1.3467142857142858, 2.834857142857143, 2.387, 1.4728571428571429, 1.6585714285714286, 2.075571428571429, 1.9587157142857143, 1.8874285714285715, 2.1141442857142856, 1.6198571428571429, 2.128285714285714, 2.252, 1.8928585714285717, 1.9975714285714283, 1.8355728571428571, 2.060571428571429, 2.277, 2.7419999999999995, 2.294, 1.7551428571428571, 1.4422857142857144, 1.8431442857142855, 2.2764285714285717, 3.0108585714285714, 2.3978585714285714, 2.113571428571429, 1.396142857142857, 1.4354285714285715, 2.442428571428571, 1.667, 1.1281428571428571, 2.6738571428571425, 1.8901428571428571, 1.2691428571428571, 2.285857142857143, 2.129, 1.8018571428571428, 2.233571428571429, 1.503857142857143, 1.8992857142857145, 1.319857142857143, 2.855572857142857, 1.9822857142857142, 1.3892857142857142, 2.0985714285714288, 1.8855714285714285, 1.9647142857142856, 3.3078585714285715, 1.5335714285714286, 1.8130000000000002, 1.6198571428571429, 1.8635728571428574, 1.9407142857142858, 2.3931428571428577, 1.5812857142857144, 1.7935714285714288, 1.9492871428571428, 1.9925714285714284, 2.3455728571428573, 1.8992857142857145, 2.4762857142857144, 2.505857142857143, 1.97143, 2.9268585714285713, 2.1475714285714282, 1.7367142857142857, 1.565, 0.9502857142857143, 2.183142857142857, 1.8257157142857143, 2.251857142857143, 1.6124285714285715, 2.210572857142857, 2.0197142857142856, 2.1597142857142857, 1.8357142857142856, 2.200428571428571, 2.055428571428571, 1.5687142857142855, 1.566, 1.7414285714285713, 1.5614285714285714, 1.3847142857142856, 1.5712857142857144, 2.3328571428571427, 3.091715714285715, 2.5064285714285717, 1.4497142857142857, 1.6965714285714288, 1.8130000000000002, 1.5715714285714282, 1.7905714285714287, 2.021857142857143, 1.839857142857143, 1.9187142857142856, 2.2672857142857143, 0.8747142857142857, 1.6750000000000003, 2.427572857142857, 2.1578571428571425, 1.4195714285714287, 1.794857142857143, 1.358142857142857, 1.6262857142857143, 1.2007142857142858, 2.3377142857142856, 1.5094285714285716, 2.1687157142857143, 1.8847157142857143, 1.9355714285714285, 1.7522857142857144, 1.758571428571429, 1.748572857142857, 1.6534285714285717, 1.5114285714285713, 1.4392857142857145, 3.0064299999999995, 1.7259999999999998, 2.2758571428571424, 2.233571428571429, 1.3698571428571429, 2.0145714285714287, 1.5879999999999999, 2.3775714285714287, 1.645714285714286, 2.5067157142857144, 2.374142857142857, 1.3284285714285715, 2.051144285714286, 2.919715714285714, 4.163002857142857, 1.7978571428571428, 3.1872885714285712, 1.950572857142857, 2.2435714285714283, 2.1279999999999997, 2.743715714285714, 4.107721428571428, 2.2928585714285714, 1.6894285714285713, 1.5937142857142859, 1.315, 1.5131428571428571, 2.096142857142857, 2.1157142857142857, 3.004572857142857, 2.2577142857142856, 1.499142857142857, 2.2854285714285716, 2.200857142857143, 2.280857142857143, 1.7208571428571429, 2.231857142857143, 1.6607142857142858, 2.0995714285714286, 2.990858571428571, 1.2334285714285715, 1.2584285714285712, 1.4408571428571426, 1.9202857142857144, 2.8401457142857143, 2.5650014285714287, 1.1122857142857143, 1.6405714285714286, 2.8255714285714286, 1.5137142857142858, 1.3494285714285714, 2.1572857142857145, 1.5845714285714287, 1.7061428571428572, 1.4852857142857145, 1.4509999999999998, 2.214, 1.5897142857142856, 1.801857142857143, 2.571857142857143, 1.7785714285714287, 2.101285714285714, 1.6741428571428572, 2.3165728571428565, 2.502857142857143, 3.127715714285714, 1.9052857142857145, 1.9024285714285714, 1.5462857142857143, 1.7077142857142855, 1.5070000000000001, 1.808142857142857, 1.739, 2.083285714285714, 1.6505714285714288, 2.493142857142857, 1.564142857142857, 1.5504285714285717, 1.8442857142857143, 2.7217142857142855, 3.7615757142857142, 1.7247142857142859, 0.9825714285714285, 1.7514285714285713, 1.928857142857143, 2.11, 1.3605714285714288, 1.6444285714285714, 1.157857142857143, 2.612571428571429, 1.4402857142857144, 1.7794285714285714, 2.1652857142857145, 1.5377142857142856, 1.5377142857142856, 2.0455714285714284, 1.6901428571428567, 2.4627142857142856, 1.9750014285714284, 1.6725714285714286, 2.033, 1.450142857142857, 1.8157142857142854, 1.4497142857142857, 1.5264285714285715, 1.801, 1.264, 2.249, 1.708714285714286, 2.2991428571428574, 1.506142857142857, 2.0189999999999997, 1.5214285714285711, 2.178857142857143, 2.469142857142857, 1.436, 2.045285714285714, 1.3414285714285714, 2.007857142857143, 1.8325714285714287, 2.188428571428571, 2.235857142857143, 3.6345728571428566, 1.9388571428571428, 1.9211428571428575, 1.8702857142857146, 2.2801442857142855, 2.591715714285715, 1.6605714285714286, 1.6284285714285716, 1.8665714285714288, 2.4202871428571426, 1.2544285714285712, 2.2775714285714286, 2.84043, 2.020857142857143, 2.2120014285714285, 2.320287142857143, 2.9797157142857142, 2.300572857142857, 2.2157142857142857, 2.0385714285714287, 2.3551442857142857, 2.803857142857143, 2.5491442857142856, 1.644, 1.2137142857142855, 1.643428571428571, 1.8177142857142858, 1.49, 2.3067142857142855, 2.0142857142857142, 1.9302857142857144, 1.8497142857142859, 1.3024285714285715, 1.5052857142857143, 1.747857142857143, 1.4134285714285717, 1.6314285714285712, 1.7215714285714285, 2.011428571428571, 1.6431428571428572, 2.6392857142857147, 1.5739999999999998, 1.7954285714285714, 1.9127142857142856, 3.4960042857142857, 1.5015714285714286, 2.322428571428571, 2.2351428571428573, 1.5582857142857143, 2.317287142857143, 1.9622857142857144, 1.8651428571428572, 2.6384299999999996, 2.0931428571428574, 2.6702857142857144, 2.004287142857143, 1.8258571428571428, 1.4945714285714284, 1.049, 1.2972857142857142, 2.753572857142857, 1.7142857142857142, 1.4242857142857144, 2.084857142857143, 1.9302857142857146, 2.043142857142857, 1.120857142857143, 3.1772899999999997, 1.3971428571428572, 2.508571428571429, 2.9601442857142857, 1.684, 2.4042857142857144, 2.3347142857142855, 1.257, 1.586285714285714, 2.4517157142857147, 1.8614285714285714, 1.7961428571428573, 1.5295714285714286, 3.1460000000000004, 2.3141428571428575, 2.4790014285714284, 3.414431428571428, 1.6938571428571427, 2.281142857142857, 2.70543, 1.9982857142857142, 2.066, 1.117, 1.5417142857142856, 1.3672857142857142, 2.675857142857143, 1.7102857142857144, 2.0475714285714286, 1.4709999999999999, 1.6955714285714285, 2.86886, 1.7624285714285715, 2.093571428571429, 1.648142857142857, 1.8534285714285714, 2.717142857142857, 2.4762857142857144, 1.9777142857142855, 2.1608571428571426, 2.1925714285714286, 1.7027142857142858, 3.082857142857143, 1.933287142857143, 1.6217142857142857, 1.811, 1.7854285714285714, 2.1131428571428574, 1.984, 1.7738571428571428, 1.9122871428571429, 3.617718571428571, 2.924428571428571, 1.5965714285714285, 2.3787142857142856, 1.762572857142857, 2.295428571428572, 1.1962857142857144, 1.3519999999999999, 1.8744285714285716, 2.2079999999999997, 2.2171428571428575, 2.388715714285714, 2.1805714285714286, 1.8368571428571427, 1.5821428571428573, 1.868, 2.4192871428571427, 1.5057142857142856, 1.7245714285714286, 2.2521428571428572, 2.1434285714285712, 1.9722857142857142, 1.9844285714285714, 1.5938571428571429, 1.451, 2.4598585714285717, 1.7094285714285713, 1.8011428571428572, 1.262857142857143, 1.9724285714285714, 1.772285714285714, 2.733287142857143, 3.194714285714286, 2.5367142857142855, 2.7457157142857143, 1.7324285714285714, 1.3054285714285714, 1.913, 1.6107142857142858, 2.3584285714285715, 1.442142857142857, 2.116, 1.534, 1.577142857142857, 1.5164285714285715, 2.244285714285714, 1.8964285714285711, 1.612857142857143, 1.9431428571428573, 1.8415714285714284, 1.6647142857142856, 2.0941442857142856, 2.4437142857142855, 1.6245714285714286, 1.7088571428571429, 1.413, 1.796714285714286, 2.6650014285714283, 1.7592857142857146, 1.634857142857143, 1.5575714285714286, 2.725142857142857, 2.769142857142857, 2.324142857142857, 1.4477142857142857, 2.1670000000000003, 1.7288571428571429, 2.3682857142857143, 2.0687142857142855, 3.5085728571428576, 2.9495742857142853, 2.4347157142857134, 2.039142857142857, 1.6412857142857145, 2.1912857142857143, 2.0324285714285715, 1.8017142857142854, 2.011, 1.7034285714285713, 1.8152857142857142, 1.1417142857142857, 2.5749985714285715, 1.7202857142857142, 3.1975742857142855, 1.889857142857143, 1.8428571428571432, 2.0397142857142856, 1.6855714285714285, 1.4734285714285715, 2.1354285714285712, 1.493, 2.3237157142857146, 1.669, 1.9331428571428575, 1.9914285714285713, 1.1745714285714286, 3.26886, 1.5635714285714286, 1.9747142857142859, 2.3658571428571427, 2.8562871428571426, 2.0951428571428568, 2.1651442857142857, 2.1452885714285714, 2.6915728571428574, 2.67443, 2.4412857142857147, 2.504, 1.7562857142857144, 1.5681428571428573, 1.2497142857142858, 1.5630000000000002, 2.3622871428571424, 2.431714285714286, 2.211572857142857, 1.881857142857143, 1.7538571428571428, 2.98143, 2.1598571428571427, 2.078, 1.6008571428571425, 1.375714285714286, 1.9127142857142856, 1.586, 2.0931428571428574, 2.461, 0.977857142857143, 1.6085714285714285, 1.671, 2.073714285714286, 2.9421428571428576, 2.7624299999999997, 3.383857142857143, 1.3202857142857145, 1.8044285714285713, 1.5062857142857144, 1.7212857142857143, 1.5917142857142856, 2.916571428571429, 1.8815714285714287, 2.3955714285714285, 1.8998585714285714, 2.6005742857142855, 1.7518571428571428, 1.7034285714285713, 1.252, 2.785429999999999, 1.8201428571428573, 2.177, 1.4932857142857139, 1.6078571428571429, 2.0020000000000002, 2.0781428571428573, 1.7725714285714287, 1.9424299999999997, 1.4912857142857143, 1.9605714285714286, 2.4354285714285715, 1.7590000000000001, 2.9227157142857143, 1.4072857142857143, 1.8084285714285713, 2.024714285714286, 1.8007142857142857, 1.3785714285714283, 1.4235714285714285, 3.2602871428571425, 1.567142857142857, 2.2134285714285715, 1.955142857142857, 2.4702857142857146, 2.556142857142857, 2.2262857142857144, 1.997714285714286, 2.008857142857143, 2.9825714285714287, 1.8324285714285715, 1.517, 2.198714285714286, 2.014714285714286, 1.7625714285714287, 1.5055714285714286, 1.8975714285714285, 2.593285714285714, 1.9927142857142857, 1.5812857142857144, 1.8132857142857142, 1.4104285714285711, 1.7201428571428572, 2.458142857142857, 1.3532857142857142, 1.5382857142857145, 2.053142857142857, 2.1597142857142853, 2.1194285714285717, 1.441142857142857, 1.782857142857143, 1.956, 2.503285714285714, 1.5124285714285715, 1.0582857142857143, 1.8145714285714287, 1.6535714285714287, 2.2941428571428575, 2.341857142857143, 1.6270000000000002, 2.3102871428571428, 2.9657157142857145, 2.4990014285714284, 2.4535714285714283, 1.3115714285714286, 2.647428571428572, 1.41, 1.2122857142857144, 1.754, 1.6734285714285717, 3.0585714285714287, 1.6318571428571427, 2.073, 1.8132857142857142, 2.1107142857142858, 1.7992857142857146, 2.6342871428571426, 2.0580000000000003, 2.227, 1.4804285714285714, 1.3230000000000002, 2.847, 2.028572857142857, 1.9465714285714284, 2.046285714285714, 2.2215714285714285, 2.609858571428571, 1.5099999999999998, 1.9245714285714282, 1.3974285714285715, 1.8488571428571425, 1.751, 2.0989999999999998, 1.5525714285714283, 2.572, 2.283714285714286, 2.4472857142857145, 2.097285714285715, 2.3117157142857145, 1.6622857142857144, 1.5554285714285714, 2.1685714285714286, 2.003285714285714, 1.6637142857142861, 2.4617171428571427, 2.0052857142857143, 1.2988571428571427, 1.6195714285714284, 1.9035714285714285, 2.5405728571428567, 1.9827142857142857, 1.6869999999999998, 1.5888571428571427, 1.4608571428571426, 2.710857142857143, 1.3622857142857143, 2.7900014285714287, 2.496571428571429, 1.6835714285714285, 3.8360042857142855, 2.6850014285714283, 1.5904285714285713, 2.6218600000000003, 2.3327142857142857, 1.542714285714286, 2.462572857142857, 2.78643, 1.8408571428571427, 1.9117142857142857, 3.1944299999999997, 2.5085714285714285, 3.3090000000000006, 1.6088571428571428, 1.4432857142857145, 1.957142857142857, 1.6301428571428571, 2.1278571428571427, 1.327142857142857, 1.1364285714285713, 1.5370000000000001, 2.3729999999999998, 1.7542857142857144, 3.7800057142857137, 2.6608614285714287, 2.501142857142857, 1.4637142857142857, 2.0715714285714286, 1.5530000000000002, 2.089, 1.7074285714285717, 2.5364299999999997, 1.9874285714285713, 2.124287142857143, 1.5955714285714286, 2.1174285714285714, 1.709, 3.1882871428571424, 2.4058585714285714, 1.506142857142857, 1.528, 1.7877142857142858, 2.0824285714285713, 2.6601442857142854, 2.080142857142857, 2.157715714285714, 2.4050000000000002, 2.33243, 2.379858571428571, 1.8298571428571428, 2.0420000000000003, 2.9062885714285716, 2.268, 1.7704285714285715, 1.6647142857142858, 1.5745714285714285, 1.1572857142857143, 1.7254285714285715, 2.418, 1.95943, 1.8014285714285716, 2.2319999999999998, 2.137857142857143, 1.5565714285714285, 1.561, 2.7611442857142854, 1.2722857142857145, 1.915287142857143, 1.429714285714286, 2.441998571428571, 1.5865714285714285, 2.2832857142857144, 1.5408571428571427, 2.9640014285714287, 1.7774285714285714, 1.4408571428571426, 2.051142857142857, 1.7212857142857143, 1.9017142857142857, 1.5568571428571432, 1.6787142857142856, 1.6285714285714283, 1.7438571428571428, 1.3288571428571427, 1.5710000000000002, 1.6038571428571429, 1.4719999999999998, 2.230285714285714, 1.9218571428571427, 2.42086, 2.5165714285714285, 1.434, 2.411714285714286, 1.4775714285714285, 1.384, 1.5552857142857144, 1.490142857142857, 1.9512857142857143, 1.8990000000000002, 1.9917142857142858, 1.8272857142857146, 1.7730000000000001, 1.5630000000000002, 1.5717142857142856, 2.0405714285714285, 2.245, 2.305428571428571, 2.285428571428571, 2.5405728571428567, 2.798717142857143, 1.6555714285714285, 2.611285714285714, 2.2047142857142856, 1.5799985714285716, 1.7525714285714284, 1.8938585714285714, 1.878142857142857, 1.6588571428571428, 2.189571428571429, 1.2115714285714285, 1.945142857142857, 1.4801428571428572, 2.9605714285714284, 2.1471442857142855, 2.305285714285714, 1.5118571428571428, 2.524572857142857, 2.3251428571428567, 1.6158571428571429, 2.147714285714286, 2.63543, 2.4424285714285716, 1.7910000000000001, 2.0247157142857146, 1.3897142857142857, 3.7275728571428575, 1.4589999999999999, 1.9600014285714285, 2.171572857142857, 2.7050000000000005, 1.9271428571428575, 2.197142857142857, 2.74843, 1.9918571428571425, 2.4894299999999996]\n"
          ]
        }
      ],
      "source": [
        "k = 7\n",
        "\n",
        "def predict_regression(x):\n",
        "    # Compute Euclidean distances between x and every training sample\n",
        "    distances = [np.linalg.norm(x - x_train) for x_train in X_train]\n",
        "\n",
        "    # Get the indices of the k closest training samples\n",
        "    k_indices = np.argsort(distances)[:k]\n",
        "\n",
        "    # Extract the corresponding target values\n",
        "    k_nearest_values = [y_train[i] for i in k_indices]\n",
        "\n",
        "    # Return the mean value of the neighbors\n",
        "    return np.mean(k_nearest_values)\n",
        "\n",
        "# Apply the predict_regression function to each test sample\n",
        "predicted = [predict_regression(x) for x in X_test]\n",
        "print(predicted)"
      ]
    },
    {
      "cell_type": "code",
      "execution_count": null,
      "metadata": {
        "id": "MD8_gCuUvgPs",
        "outputId": "eeacb0e4-3d24-48fa-fdb4-91f632000afc"
      },
      "outputs": [
        {
          "name": "stdout",
          "output_type": "stream",
          "text": [
            "Mean Squared Error (MSE): 1.1045381245194705\n",
            "Root Mean Squared Error (RMSE): 1.0509700873571381\n",
            "R-squared (Coefficient of Determination): 0.1571042759473391\n"
          ]
        }
      ],
      "source": [
        "from sklearn.metrics import mean_squared_error, r2_score, mean_absolute_error\n",
        "\n",
        "mae = mean_absolute_error(y_test, predicted)\n",
        "mse = mean_squared_error(y_test, predicted)\n",
        "rmse = np.sqrt(mse)\n",
        "r2 = r2_score(y_test, predicted)\n",
        "\n",
        "print(\"Mean Squared Error (MSE):\", mse)\n",
        "print(\"Root Mean Squared Error (RMSE):\", rmse)\n",
        "print(\"R-squared (Coefficient of Determination):\", r2)"
      ]
    }
  ],
  "metadata": {
    "kernelspec": {
      "display_name": "Python 3",
      "language": "python",
      "name": "python3"
    },
    "language_info": {
      "codemirror_mode": {
        "name": "ipython",
        "version": 3
      },
      "file_extension": ".py",
      "mimetype": "text/x-python",
      "name": "python",
      "nbconvert_exporter": "python",
      "pygments_lexer": "ipython3",
      "version": "3.12.6"
    },
    "colab": {
      "provenance": [],
      "include_colab_link": true
    }
  },
  "nbformat": 4,
  "nbformat_minor": 0
}